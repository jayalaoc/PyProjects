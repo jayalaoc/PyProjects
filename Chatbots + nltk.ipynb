{
 "cells": [
  {
   "cell_type": "markdown",
   "metadata": {},
   "source": [
    "# Chatbots"
   ]
  },
  {
   "cell_type": "markdown",
   "metadata": {},
   "source": [
    "## Overview\n",
    "\n",
    "This assignment covers Functions & Algorithms, and builds up to the application of Chatbots. "
   ]
  },
  {
   "cell_type": "markdown",
   "metadata": {},
   "source": [
    "## Setup"
   ]
  },
  {
   "cell_type": "code",
   "execution_count": 1,
   "metadata": {},
   "outputs": [
    {
     "name": "stdout",
     "output_type": "stream",
     "text": [
      "Requirement already satisfied: nltk in ./opt/anaconda3/lib/python3.8/site-packages (3.5)\n",
      "Requirement already satisfied: joblib in ./opt/anaconda3/lib/python3.8/site-packages (from nltk) (0.17.0)\n",
      "Requirement already satisfied: tqdm in ./opt/anaconda3/lib/python3.8/site-packages (from nltk) (4.50.2)\n",
      "Requirement already satisfied: regex in ./opt/anaconda3/lib/python3.8/site-packages (from nltk) (2020.10.15)\n",
      "Requirement already satisfied: click in ./opt/anaconda3/lib/python3.8/site-packages (from nltk) (7.1.2)\n"
     ]
    }
   ],
   "source": [
    "# Setup - run this cell before doing the next part of the assignment\n",
    "#   This imports some extra code, making it available for us to use later\n",
    "import sys\n",
    "!{sys.executable} -m pip install nltk --user"
   ]
  },
  {
   "cell_type": "markdown",
   "metadata": {},
   "source": [
    "After execution finished by showing that `Successfully installed nltk-3.4.4`,\n",
    "please ***restart*** the server in the menu by clicking\n",
    "`Kernel` -> `Restart & Clear Output`"
   ]
  },
  {
   "cell_type": "code",
   "execution_count": 20,
   "metadata": {},
   "outputs": [],
   "source": [
    "# Setup - run this cell before doing the next part of the assignment\n",
    "#   This imports some extra code, making it available for us to use later\n",
    "import string\n",
    "import random\n",
    "import nltk"
   ]
  },
  {
   "cell_type": "markdown",
   "metadata": {},
   "source": [
    "### Zen Chatbot\n",
    "\n",
    "In this assignment, we will be working our way up to building a chatbot.\n",
    "\n",
    "To start this, we can have a quick chat with a zen chatbot, to see what these kinds of chatbots look like. \n",
    "\n",
    "Also, if you get stuck on anything, come back here, and talk to the Zen chatbot, to relax :)\n",
    "\n",
    "Note: in this, and other, chatbot lines, running this code will start an open-ended while loop, that will interupt your code flow, until you explicity quit out of the conversation. If you want to be able to run all your code (from kernel `restart & run all`), then comment these lines back out when you are finished exploring them."
   ]
  },
  {
   "cell_type": "code",
   "execution_count": 3,
   "metadata": {},
   "outputs": [],
   "source": [
    "# Uncomment and run this cell to talk to a Zan Chatbot\n",
    "#nltk.chat.zen.demo()"
   ]
  },
  {
   "cell_type": "markdown",
   "metadata": {},
   "source": [
    "## Part 1: Functions \n",
    "\n",
    "This part covers the basics of writing and using functions."
   ]
  },
  {
   "cell_type": "markdown",
   "metadata": {},
   "source": [
    "### Function Examples\n",
    "\n",
    "The following are a couple examples of functions provided to you, so you can see their structure.\n",
    "\n",
    "You don't need to do anything with these functions."
   ]
  },
  {
   "cell_type": "code",
   "execution_count": 4,
   "metadata": {},
   "outputs": [
    {
     "name": "stdout",
     "output_type": "stream",
     "text": [
      "4\n",
      "10\n"
     ]
    }
   ],
   "source": [
    "def basic_function(input_number):\n",
    "    \"\"\"Multiplies an input number by 2.\"\"\"\n",
    "    \n",
    "    # Multiple the input by 2\n",
    "    output = input_number * 2 \n",
    "    \n",
    "    return output\n",
    "\n",
    "# Test using `basic_function`\n",
    "print(basic_function(2))\n",
    "print(basic_function(5))"
   ]
  },
  {
   "cell_type": "code",
   "execution_count": 6,
   "metadata": {},
   "outputs": [],
   "source": [
    "def more_complicated_function(input_string):\n",
    "    \"\"\"Counts how many letters are in a string.\"\"\"\n",
    "\n",
    "    letter_count = 0\n",
    "\n",
    "    for item in input_string:\n",
    "        \n",
    "        # Uses the `isalpha` method to check if a character is from the alphabet\n",
    "        if item.isalpha():\n",
    "            \n",
    "            # `+= 1` is a shortcut for `val = val + 1`\n",
    "            letter_count += 1\n",
    "            \n",
    "    return letter_count"
   ]
  },
  {
   "cell_type": "code",
   "execution_count": 7,
   "metadata": {},
   "outputs": [
    {
     "name": "stdout",
     "output_type": "stream",
     "text": [
      "3\n"
     ]
    }
   ],
   "source": [
    "# Test using `more_complicated_function`\n",
    "print(more_complicated_function('ab45b'))"
   ]
  },
  {
   "cell_type": "markdown",
   "metadata": {},
   "source": [
    "### - Find Max Value\n",
    "\n",
    "Write a function called `find_max`, that takes in a single parameter called `random_list`, which should be a list. \n",
    "\n",
    "This function will find the maximum (max) value of the input list, and return it. \n",
    "\n",
    "This function will assume the list is composed of only positive numbers.\n",
    "\n",
    "To find the max, within the function, use a variable called `list_max`, that you initialize to value 0. \n",
    "\n",
    "Then use a `for` loop, to loop through `random_list`. \n",
    "\n",
    "Inside the list, use a conditional to check if the current value is larger than `list_max`, and if so, re-assign `list_max` to store this new value.\n",
    "\n",
    "After the loop, return `list_max`, which should now store the maximum value from within the input list. "
   ]
  },
  {
   "cell_type": "code",
   "execution_count": 8,
   "metadata": {},
   "outputs": [],
   "source": [
    "def find_max(random_list):\n",
    "    list_max = 0\n",
    "    for item in random_list:\n",
    "        if list_max < item:\n",
    "            list_max = item\n",
    "    return(list_max)"
   ]
  },
  {
   "cell_type": "code",
   "execution_count": 9,
   "metadata": {},
   "outputs": [
    {
     "data": {
      "text/plain": [
       "55"
      ]
     },
     "execution_count": 9,
     "metadata": {},
     "output_type": "execute_result"
    }
   ],
   "source": [
    "find_max([1,3,4,3,55,20])"
   ]
  },
  {
   "cell_type": "markdown",
   "metadata": {},
   "source": [
    "### Functions Using Functions \n",
    "\n",
    "In this section, your are going to recreate a function called `make_new_list` which takes a list called `data_list` as its input. \n",
    "\n",
    "This function will use `is_positive` and `is_even` to mimic the task from A2-Q13. \n",
    "\n",
    "That is, this function will  check each value in `data_list` to see if they are even or odd and whether they are positive or negative.\n",
    "- If they are both positive and even, encode this as the number 1\n",
    "- If they are both negative and odd, encode this as the the number -1\n",
    "- Otherwise, encode this as the number 0\n",
    "\n",
    "- Store the result for each value into a list called `output` and return it."
   ]
  },
  {
   "cell_type": "code",
   "execution_count": 10,
   "metadata": {},
   "outputs": [],
   "source": [
    "# Functions using functions\n",
    "def make_new_list(data_list):\n",
    "    output = []\n",
    "   \n",
    "    for num in data_list: \n",
    "        if num%2 == 0 and num > 0:\n",
    "            output.append(1)\n",
    "        elif num%2 == 1 and num < 0:\n",
    "            output.append(-1)\n",
    "        else: \n",
    "            output.append(0)\n",
    "    return output"
   ]
  },
  {
   "cell_type": "markdown",
   "metadata": {},
   "source": [
    "## Part 3: Algorithms\n",
    "\n",
    "This part covers working with algorithms."
   ]
  },
  {
   "cell_type": "markdown",
   "metadata": {},
   "source": [
    "### - Algorithms\n",
    "\n",
    "For each of the tasks below, indicate whether you think it is something that a human or a computer would be better at doing.\n",
    "\n",
    "Answer each question by setting each requested variable to the string either 'human' or 'computer'. \n",
    "\n",
    "Set the variable to reflect the answer of which of them you think would be better at the task.\n",
    "\n",
    "- a) Recognize whether a sentence is sarcastic and/or ironic. \n",
    "    - Answer in a variable called `algo_q_a`\n",
    "- b) Reply to a question with information about a topic, replying with the exact wording from a wikipedia article.\n",
    "    - Answer in a variable called `algo_q_b`\n",
    "- c) Keep answering messages for an arbitrarily long period of time, without demonstrating fatigue.\n",
    "    - Answer in a variable called `algo_q_c`\n",
    "- d) Interpret the tone of what was said, to infer if someone is angry. \n",
    "    - Answer in a variable called `algo_q_d`\n",
    "    \n",
    "For each, try to think through if and how you could write an algorithm to do this task - and if you could not, what about it is hard to formalize. \n",
    "\n",
    "We can use these questions to start to think through what might be easy and hard to program our chatbot to do. "
   ]
  },
  {
   "cell_type": "code",
   "execution_count": 13,
   "metadata": {},
   "outputs": [],
   "source": [
    "# human or computer\n",
    "algo_q_a = 'human'\n",
    "\n",
    "algo_q_b = 'computer'\n",
    "\n",
    "algo_q_c = 'computer'\n",
    "\n",
    "algo_q_d = 'human'"
   ]
  },
  {
   "cell_type": "markdown",
   "metadata": {},
   "source": [
    "## Part 4:  Chatbots\n",
    "\n",
    "This part is an application of all the tools we have covered so far, to the problem of creating a chatbot.\n",
    "\n",
    "A chatbot is a piece of software that tries to have a conversation with a human.\n",
    "\n",
    "While today's chatbots are powerful learners, traditional chatbots are much simpler. \n",
    "\n",
    "Traditional chatbots follow a \"rule-based\" approach that is defined for them (by you, the programmer), usually without any learning. \n",
    "\n",
    "These rules can be very simple or sometimes quite complex - but everything is pre-defined. \n",
    "\n",
    "These types of chatbots can handle simple conversations but do tend to fail at more complex ones.\n",
    "\n",
    "#### Chatbot functions \n",
    "\n",
    "In order to make our chatbot, we will create a series of functions that our eventual chatbot will use together to try and chat with a user. \n",
    "\n",
    "At the end, we will test that these functions do indeed allow us to have simple conversations with our chatbot.\n",
    "\n",
    "Below are some more example chatbots to talk to. Remember to comment these lines back out if you want to be able to `Restart and Run All`."
   ]
  },
  {
   "cell_type": "markdown",
   "metadata": {},
   "source": [
    "### Example Chatbot - Eliza\n",
    "\n",
    "The following demo is from the Natural Language ToolKit (nltk), a Python package available through Anaconda. \n",
    "\n",
    "Uncomment the line below, and run the code to be able to have a chat with Eliza.\n",
    "\n",
    "More information on Eliza: https://en.wikipedia.org/wiki/ELIZA"
   ]
  },
  {
   "cell_type": "code",
   "execution_count": 15,
   "metadata": {},
   "outputs": [
    {
     "name": "stdout",
     "output_type": "stream",
     "text": [
      "Therapist\n",
      "---------\n",
      "Talk to the program by typing in plain English, using normal upper-\n",
      "and lower-case letters and punctuation.  Enter \"quit\" when done.\n",
      "========================================================================\n",
      "Hello.  How are you feeling today?\n",
      ">I'm feeling alright\n",
      "Do you enjoy being feeling alright?\n",
      ">grammar error\n",
      "Why do you say that grammar error?\n",
      ">//\n",
      "Can you elaborate on that?\n",
      ">/* */\n",
      "Let's change focus a bit... Tell me about your family.\n",
      ">nah\n",
      "Let's change focus a bit... Tell me about your family.\n"
     ]
    },
    {
     "ename": "KeyboardInterrupt",
     "evalue": "Interrupted by user",
     "output_type": "error",
     "traceback": [
      "\u001b[0;31m---------------------------------------------------------------------------\u001b[0m",
      "\u001b[0;31mKeyboardInterrupt\u001b[0m                         Traceback (most recent call last)",
      "\u001b[0;32m<ipython-input-15-0722ea47827d>\u001b[0m in \u001b[0;36m<module>\u001b[0;34m\u001b[0m\n\u001b[1;32m      1\u001b[0m \u001b[0;31m# Run a demo of a chatbot, with Eliza\u001b[0m\u001b[0;34m\u001b[0m\u001b[0;34m\u001b[0m\u001b[0;34m\u001b[0m\u001b[0m\n\u001b[0;32m----> 2\u001b[0;31m \u001b[0mnltk\u001b[0m\u001b[0;34m.\u001b[0m\u001b[0mchat\u001b[0m\u001b[0;34m.\u001b[0m\u001b[0meliza\u001b[0m\u001b[0;34m.\u001b[0m\u001b[0mdemo\u001b[0m\u001b[0;34m(\u001b[0m\u001b[0;34m)\u001b[0m\u001b[0;34m\u001b[0m\u001b[0;34m\u001b[0m\u001b[0m\n\u001b[0m",
      "\u001b[0;32m~/opt/anaconda3/lib/python3.8/site-packages/nltk/chat/eliza.py\u001b[0m in \u001b[0;36mdemo\u001b[0;34m()\u001b[0m\n\u001b[1;32m    331\u001b[0m \u001b[0;34m\u001b[0m\u001b[0m\n\u001b[1;32m    332\u001b[0m \u001b[0;32mdef\u001b[0m \u001b[0mdemo\u001b[0m\u001b[0;34m(\u001b[0m\u001b[0;34m)\u001b[0m\u001b[0;34m:\u001b[0m\u001b[0;34m\u001b[0m\u001b[0;34m\u001b[0m\u001b[0m\n\u001b[0;32m--> 333\u001b[0;31m     \u001b[0meliza_chat\u001b[0m\u001b[0;34m(\u001b[0m\u001b[0;34m)\u001b[0m\u001b[0;34m\u001b[0m\u001b[0;34m\u001b[0m\u001b[0m\n\u001b[0m\u001b[1;32m    334\u001b[0m \u001b[0;34m\u001b[0m\u001b[0m\n\u001b[1;32m    335\u001b[0m \u001b[0;34m\u001b[0m\u001b[0m\n",
      "\u001b[0;32m~/opt/anaconda3/lib/python3.8/site-packages/nltk/chat/eliza.py\u001b[0m in \u001b[0;36meliza_chat\u001b[0;34m()\u001b[0m\n\u001b[1;32m    327\u001b[0m     \u001b[0mprint\u001b[0m\u001b[0;34m(\u001b[0m\u001b[0;34m\"Hello.  How are you feeling today?\"\u001b[0m\u001b[0;34m)\u001b[0m\u001b[0;34m\u001b[0m\u001b[0;34m\u001b[0m\u001b[0m\n\u001b[1;32m    328\u001b[0m \u001b[0;34m\u001b[0m\u001b[0m\n\u001b[0;32m--> 329\u001b[0;31m     \u001b[0meliza_chatbot\u001b[0m\u001b[0;34m.\u001b[0m\u001b[0mconverse\u001b[0m\u001b[0;34m(\u001b[0m\u001b[0;34m)\u001b[0m\u001b[0;34m\u001b[0m\u001b[0;34m\u001b[0m\u001b[0m\n\u001b[0m\u001b[1;32m    330\u001b[0m \u001b[0;34m\u001b[0m\u001b[0m\n\u001b[1;32m    331\u001b[0m \u001b[0;34m\u001b[0m\u001b[0m\n",
      "\u001b[0;32m~/opt/anaconda3/lib/python3.8/site-packages/nltk/chat/util.py\u001b[0m in \u001b[0;36mconverse\u001b[0;34m(self, quit)\u001b[0m\n\u001b[1;32m    117\u001b[0m             \u001b[0muser_input\u001b[0m \u001b[0;34m=\u001b[0m \u001b[0mquit\u001b[0m\u001b[0;34m\u001b[0m\u001b[0;34m\u001b[0m\u001b[0m\n\u001b[1;32m    118\u001b[0m             \u001b[0;32mtry\u001b[0m\u001b[0;34m:\u001b[0m\u001b[0;34m\u001b[0m\u001b[0;34m\u001b[0m\u001b[0m\n\u001b[0;32m--> 119\u001b[0;31m                 \u001b[0muser_input\u001b[0m \u001b[0;34m=\u001b[0m \u001b[0minput\u001b[0m\u001b[0;34m(\u001b[0m\u001b[0;34m\">\"\u001b[0m\u001b[0;34m)\u001b[0m\u001b[0;34m\u001b[0m\u001b[0;34m\u001b[0m\u001b[0m\n\u001b[0m\u001b[1;32m    120\u001b[0m             \u001b[0;32mexcept\u001b[0m \u001b[0mEOFError\u001b[0m\u001b[0;34m:\u001b[0m\u001b[0;34m\u001b[0m\u001b[0;34m\u001b[0m\u001b[0m\n\u001b[1;32m    121\u001b[0m                 \u001b[0mprint\u001b[0m\u001b[0;34m(\u001b[0m\u001b[0muser_input\u001b[0m\u001b[0;34m)\u001b[0m\u001b[0;34m\u001b[0m\u001b[0;34m\u001b[0m\u001b[0m\n",
      "\u001b[0;32m~/opt/anaconda3/lib/python3.8/site-packages/ipykernel/kernelbase.py\u001b[0m in \u001b[0;36mraw_input\u001b[0;34m(self, prompt)\u001b[0m\n\u001b[1;32m    858\u001b[0m                 \u001b[0;34m\"raw_input was called, but this frontend does not support input requests.\"\u001b[0m\u001b[0;34m\u001b[0m\u001b[0;34m\u001b[0m\u001b[0m\n\u001b[1;32m    859\u001b[0m             )\n\u001b[0;32m--> 860\u001b[0;31m         return self._input_request(str(prompt),\n\u001b[0m\u001b[1;32m    861\u001b[0m             \u001b[0mself\u001b[0m\u001b[0;34m.\u001b[0m\u001b[0m_parent_ident\u001b[0m\u001b[0;34m,\u001b[0m\u001b[0;34m\u001b[0m\u001b[0;34m\u001b[0m\u001b[0m\n\u001b[1;32m    862\u001b[0m             \u001b[0mself\u001b[0m\u001b[0;34m.\u001b[0m\u001b[0m_parent_header\u001b[0m\u001b[0;34m,\u001b[0m\u001b[0;34m\u001b[0m\u001b[0;34m\u001b[0m\u001b[0m\n",
      "\u001b[0;32m~/opt/anaconda3/lib/python3.8/site-packages/ipykernel/kernelbase.py\u001b[0m in \u001b[0;36m_input_request\u001b[0;34m(self, prompt, ident, parent, password)\u001b[0m\n\u001b[1;32m    902\u001b[0m             \u001b[0;32mexcept\u001b[0m \u001b[0mKeyboardInterrupt\u001b[0m\u001b[0;34m:\u001b[0m\u001b[0;34m\u001b[0m\u001b[0;34m\u001b[0m\u001b[0m\n\u001b[1;32m    903\u001b[0m                 \u001b[0;31m# re-raise KeyboardInterrupt, to truncate traceback\u001b[0m\u001b[0;34m\u001b[0m\u001b[0;34m\u001b[0m\u001b[0;34m\u001b[0m\u001b[0m\n\u001b[0;32m--> 904\u001b[0;31m                 \u001b[0;32mraise\u001b[0m \u001b[0mKeyboardInterrupt\u001b[0m\u001b[0;34m(\u001b[0m\u001b[0;34m\"Interrupted by user\"\u001b[0m\u001b[0;34m)\u001b[0m \u001b[0;32mfrom\u001b[0m \u001b[0;32mNone\u001b[0m\u001b[0;34m\u001b[0m\u001b[0;34m\u001b[0m\u001b[0m\n\u001b[0m\u001b[1;32m    905\u001b[0m             \u001b[0;32mexcept\u001b[0m \u001b[0mException\u001b[0m \u001b[0;32mas\u001b[0m \u001b[0me\u001b[0m\u001b[0;34m:\u001b[0m\u001b[0;34m\u001b[0m\u001b[0;34m\u001b[0m\u001b[0m\n\u001b[1;32m    906\u001b[0m                 \u001b[0mself\u001b[0m\u001b[0;34m.\u001b[0m\u001b[0mlog\u001b[0m\u001b[0;34m.\u001b[0m\u001b[0mwarning\u001b[0m\u001b[0;34m(\u001b[0m\u001b[0;34m\"Invalid Message:\"\u001b[0m\u001b[0;34m,\u001b[0m \u001b[0mexc_info\u001b[0m\u001b[0;34m=\u001b[0m\u001b[0;32mTrue\u001b[0m\u001b[0;34m)\u001b[0m\u001b[0;34m\u001b[0m\u001b[0;34m\u001b[0m\u001b[0m\n",
      "\u001b[0;31mKeyboardInterrupt\u001b[0m: Interrupted by user"
     ]
    }
   ],
   "source": [
    "# Run a demo of a chatbot, with Eliza\n",
    "nltk.chat.eliza.demo()"
   ]
  },
  {
   "cell_type": "markdown",
   "metadata": {},
   "source": [
    "### Chatbots: Words & Rules\n",
    "\n",
    "So, how do these kinds of chatbots work? Most broadly, they combine two simple but powerful approaches:\n",
    "- Rule Based Artificial Intelligence (GOFAI)\n",
    "- Bag-Of-Word Language Models\n",
    "\n",
    "**Rule based AI**, sometimes called 'Good Old Fashion Artificial Intelligence', or 'GOFAI', is an approach to making artificial agents that tries to write down a set of rules to follow to perform some task. In practice, this often looks like using a lot of conditionals: if `X` happens, do `Y`. If we can write down enough logical procedures (call them algorithms) to follow to complete some task, then we can create an artificially intelligent agent (for that task).\n",
    "\n",
    "**Bag-Of-Word language models** are an approach to language that takes the simple approach of saying 'lets try and figure out what someone is saying simply by checking and counting which words they use'. If someone says the word 'dog' three times in conversation, they are probably talking about dogs. This ignores many many things about language, and how it works, but is a good 'first guess' for what is being said. \n",
    "\n",
    "From our perspective, this means two things:\n",
    "- We can broadly try to figure out the topic simply by checking which words are used\n",
    "- We can choose a response based on a rule that defines what to do if and when we identify particular topics\n",
    "\n",
    "In code then, this looks like:\n",
    "- taking input as strings of continuous text, and splitting this up into lists that contain all the words we see\n",
    "- use conditionals (if/elif/else) that choose an output based on what words appear in those lists\n",
    "\n",
    "As we work through and create all the function in the next section to create our chatbot, try to think through how these functions relate to this approach."
   ]
  },
  {
   "cell_type": "code",
   "execution_count": 16,
   "metadata": {},
   "outputs": [
    {
     "data": {
      "text/plain": [
       "True"
      ]
     },
     "execution_count": 16,
     "metadata": {},
     "output_type": "execute_result"
    }
   ],
   "source": [
    "# Question or not?\n",
    "def is_question(input_string):\n",
    "    if '?' in input_string:\n",
    "        output = True\n",
    "    else: \n",
    "        output = False\n",
    "    \n",
    "    return(output)\n",
    "\n",
    "is_question(\"Are you sure this is a question?\")"
   ]
  },
  {
   "cell_type": "code",
   "execution_count": 24,
   "metadata": {},
   "outputs": [
    {
     "name": "stdout",
     "output_type": "stream",
     "text": [
      "!\"#$%&'()*+,-./:;<=>?@[\\]^_`{|}~\n"
     ]
    },
    {
     "data": {
      "text/plain": [
       "'Hey Its Tom'"
      ]
     },
     "execution_count": 24,
     "metadata": {},
     "output_type": "execute_result"
    }
   ],
   "source": [
    "#From module\n",
    "print(string.punctuation)\n",
    "\n",
    "# Removing punctuation\n",
    "def remove_punctuation(input_string):\n",
    "    out_string = ''\n",
    "    \n",
    "    for char in input_string:\n",
    "        if char not in string.punctuation:\n",
    "            out_string += char\n",
    "    \n",
    "    return(out_string)\n",
    "\n",
    "remove_punctuation(\"Hey! It's Tom!\")"
   ]
  },
  {
   "cell_type": "markdown",
   "metadata": {},
   "source": [
    "### -Preparing Text \n",
    "\n",
    "Now we want a more general function to prepare the text inputs for processing. \n",
    "\n",
    "Inside this function, we will use some string methods as well as our new `remove_punctuation` function.\n",
    "\n",
    "Write a function called `prepare_text`.\n",
    "\n",
    "This function should have the following inputs, outputs and internal procedures:\n",
    "\n",
    "Input(s):\n",
    "* `input_string` - string\n",
    "\n",
    "Output(s):\n",
    "* `out_list` - list of string\n",
    "\n",
    "Procedure(s):\n",
    "- make the string all lower case (use a string method called `lower`)\n",
    "    - note that you will have to assign the output to a variable. You can use a variable name like `temp_string`\n",
    "- remove all punctuation from the string (use your new function `remove_punctuation`)\n",
    "    - this can also assign out to `temp_string`\n",
    "- split the string into words (look for and use a string method called `split`)\n",
    "    - note that split will return a list of strings. Assign this as `out_list`\n",
    "- return `out_list`"
   ]
  },
  {
   "cell_type": "code",
   "execution_count": 25,
   "metadata": {},
   "outputs": [
    {
     "data": {
      "text/plain": [
       "['welcome',\n",
       " 'to',\n",
       " 'the',\n",
       " 'text',\n",
       " 'preparation',\n",
       " 'process',\n",
       " 'now',\n",
       " 'we',\n",
       " 'will',\n",
       " 'process',\n",
       " 'the',\n",
       " 'text',\n",
       " 'inputs']"
      ]
     },
     "execution_count": 25,
     "metadata": {},
     "output_type": "execute_result"
    }
   ],
   "source": [
    "# Preparing Text\n",
    "def prepare_text(input_string):\n",
    "    \n",
    "    out_list = []\n",
    "    \n",
    "    temp_string = input_string.lower()\n",
    "    \n",
    "    temp_string = remove_punctuation(temp_string)\n",
    "    \n",
    "    out_list = temp_string.split()\n",
    "    \n",
    "    return out_list\n",
    "    \n",
    "prepare_text('Welcome to the text preparation process, now we will process the text inputs!')"
   ]
  },
  {
   "cell_type": "markdown",
   "metadata": {},
   "source": [
    "### Echo a Response (0.5 points)\n",
    "\n",
    "We will define a function that will return a string that has been repeated a specified number of times, with a given separator. \n",
    "\n",
    "We will also want to deal with the case where the input to this function may be `None`. \n",
    "\n",
    "Write a function called `respond_echo`. \n",
    "\n",
    "This function should have the following inputs, outputs and internal procedures:\n",
    "\n",
    "Input(s):\n",
    "* `input_string` - string, or None\n",
    "* `number_of_echoes` - integer\n",
    "* `spacer` - string\n",
    "\n",
    "Output(s):\n",
    "* `echo_output` - string, or None\n",
    "\n",
    "Procedure(s):\n",
    "- if `input_string` is not `None`:\n",
    "    - set a variable `echo_output` to be  `input_string`, repeated the number of times specified by `number_of_echoes`, joined by the  `spacer`.\n",
    "        - Hint: to do so, recall what \"*\" does to strings\n",
    "- otherwise (if `input_string` is None)\n",
    "    - set `echo_output` to `None`\n",
    "- return `echo_output`\n",
    "\n",
    "Note that a simple version of this version will end up appending the spacer to the end of the list as well. For our purposes here, implement that simple version.\n",
    "\n",
    "So, for example, `respond_echo('bark', 2, '-')` should return: 'bark-bark-'"
   ]
  },
  {
   "cell_type": "code",
   "execution_count": 26,
   "metadata": {},
   "outputs": [
    {
     "data": {
      "text/plain": [
       "'woof~woof~woof~woof~woof~'"
      ]
     },
     "execution_count": 26,
     "metadata": {},
     "output_type": "execute_result"
    }
   ],
   "source": [
    "# Echo response\n",
    "def respond_echo(input_string, number_of_echoes, spacer):\n",
    "    \n",
    "    echo_ouput = ''\n",
    "    \n",
    "    if input_string is not None:\n",
    "        echo_ouput = (input_string+spacer)*number_of_echoes\n",
    "    else:\n",
    "        echo_ouput = None \n",
    "    \n",
    "    return(echo_ouput)\n",
    "    \n",
    "respond_echo('woof', 5, '~')"
   ]
  },
  {
   "cell_type": "markdown",
   "metadata": {},
   "source": [
    "### Example: random.choice\n",
    "\n",
    "We want our chatbot to have some variation in it's responses - not only anwering the same thing.\n",
    "\n",
    "So, we want to be able to choose an output from a list of options. \n",
    "\n",
    "We can use the `random.choice` function to so.\n",
    "\n",
    "An example of using `random.choice` is offered below."
   ]
  },
  {
   "cell_type": "code",
   "execution_count": 28,
   "metadata": {},
   "outputs": [
    {
     "data": {
      "text/plain": [
       "'second option'"
      ]
     },
     "execution_count": 28,
     "metadata": {},
     "output_type": "execute_result"
    }
   ],
   "source": [
    "# Given a list of inputs, randomly choose and return one of them (re-run this to see different outputs)\n",
    "random.choice(['first option', 'second option', 'third option'])"
   ]
  },
  {
   "cell_type": "markdown",
   "metadata": {},
   "source": [
    "### - Selector\n",
    "\n",
    "Next we will write a function that will help us select an output for the chatbot, based on the input it got.\n",
    "\n",
    "The overall goal of this function is to take a list of words that we got as input, a list of words to check for if they appear in the input, and a list of possible outputs to return if something from the list to check is in the input list. \n",
    "\n",
    "Define a function, called `selector`.\n",
    "\n",
    "This function should have the following inputs, outputs and internal procedures:\n",
    "\n",
    "Input(s):\n",
    "* `input_list` - list of string\n",
    "* `check_list` - list of string\n",
    "* `return_list` - list of string\n",
    "\n",
    "Output(s):\n",
    "* `output` - string, or None\n",
    "\n",
    "Procedure(s):\n",
    "- Initialize `output` to `None`\n",
    "- Loop through each element in `input_list`\n",
    "- Use a conditional to check if the current element is in `check_list`\n",
    "    - If it is, assign `output` as the returned value of calling the `random.choice` function on `return_list`\n",
    "    - Also, break out of the loop\n",
    "- At the end of the function, return `output`\n",
    "\n",
    "Note that if we don't find any words from `input_list` that are in `check_list`, `output` will be returned as `None`."
   ]
  },
  {
   "cell_type": "code",
   "execution_count": 29,
   "metadata": {},
   "outputs": [
    {
     "data": {
      "text/plain": [
       "'yes'"
      ]
     },
     "execution_count": 29,
     "metadata": {},
     "output_type": "execute_result"
    }
   ],
   "source": [
    "# Selector\n",
    "def selector(input_list, check_list, return_list):\n",
    "    output = None \n",
    "    \n",
    "    for item in input_list:\n",
    "        if item in check_list:\n",
    "            output = random.choice(return_list)\n",
    "            break\n",
    "    return(output)\n",
    "    \n",
    "selector(['in', 'words'], ['words'], ['yes'])"
   ]
  },
  {
   "cell_type": "markdown",
   "metadata": {},
   "source": [
    "### - String Concatenator Function (0.5 points)\n",
    "\n",
    "Create a function that will concatenate two strings, combining them with a specified separator. \n",
    "\n",
    "To do so, write a function called `string_concatenator`. \n",
    "\n",
    "This function should have the following inputs, outputs and internal procedures:\n",
    "\n",
    "Input(s)\n",
    "* `string1` - string\n",
    "* `string2` - string\n",
    "* `separator` - string\n",
    "\n",
    "Output(s)\n",
    "* `output` - string, or None\n",
    "\n",
    "Procedure(s):\n",
    "- concatenate `string1` to `string2` with `separator` in between them. \n",
    "- return the result"
   ]
  },
  {
   "cell_type": "code",
   "execution_count": 30,
   "metadata": {},
   "outputs": [
    {
     "data": {
      "text/plain": [
       "'hello world'"
      ]
     },
     "execution_count": 30,
     "metadata": {},
     "output_type": "execute_result"
    }
   ],
   "source": [
    "# String Concat. Function\n",
    "def string_concatenator(string1, string2, separator):\n",
    "    \n",
    "    output = string1 + separator + string2 \n",
    "    \n",
    "    return(output)\n",
    "\n",
    "string_concatenator('hello', 'world', ' ')"
   ]
  },
  {
   "cell_type": "markdown",
   "metadata": {},
   "source": [
    "### - List to String (0.5 points)\n",
    "\n",
    "Since we are often dealing with a list of strings, it would be useful to have a function to turn a list of strings back into one single concatenated string. \n",
    "\n",
    "This function will return a string that is each element of `input_list` concatenated together with each separated by the string `seperator`. \n",
    "\n",
    "For example, the following function call:\n",
    "\n",
    "    `list_to_string(['This', 'is', 'fun'], ' ')`\n",
    "\n",
    "shoud return: \n",
    "    \n",
    "    'This is fun'\n",
    "    \n",
    "To do this, write a function called `list_to_string`. \n",
    "\n",
    "This function should have the following inputs, outputs and internal procedures:\n",
    "\n",
    "Input(s):\n",
    "* `input_list` - list of string\n",
    "* `separator` - string\n",
    "\n",
    "Output(s):\n",
    "* `output` - string\n",
    "\n",
    "Procedure(s):\n",
    "- assign a variable called `output` to be the first (index 0) element from `input_list`\n",
    "- loop through the rest of `input_list`, looping from the 2nd element (index 1) through to the end of the list\n",
    "    - Within the loop, use `string_concatenator` to combine `output` with the current element, separated by `separator`\n",
    "        - Assign the output of this to be the new value of `output`\n",
    "- return `output`, which should now be a list of the elements of `input_list`, joined together into a a single string"
   ]
  },
  {
   "cell_type": "code",
   "execution_count": 33,
   "metadata": {},
   "outputs": [
    {
     "data": {
      "text/plain": [
       "'1|2|3|2|1'"
      ]
     },
     "execution_count": 33,
     "metadata": {},
     "output_type": "execute_result"
    }
   ],
   "source": [
    "# List to string\n",
    "def list_to_string(input_list, separator):\n",
    "    \n",
    "    output = input_list[0]\n",
    "    \n",
    "    for item in input_list[1:]:\n",
    "\n",
    "        output = string_concatenator(output, item, separator)\n",
    "    \n",
    "    return(output)\n",
    "\n",
    "list_to_string(['1', '2', '3', '2', '1'], '|')"
   ]
  },
  {
   "cell_type": "markdown",
   "metadata": {},
   "source": [
    "### - End Chat \n",
    "\n",
    "The last thing we need is a way to end the chat with our chatbot. \n",
    "\n",
    "We will use the same convention that `nltk` uses - namely, that we will end the conversation if the word `quit` appears.\n",
    "\n",
    "To be able to do so, write a function called `end_chat`\n",
    "\n",
    "This function should have the following inputs, outputs and internal procedures:\n",
    "\n",
    "Input(s):\n",
    "* `input_list` - list\n",
    "\n",
    "Output(s):\n",
    "* `output` - boolean\n",
    "\n",
    "Procedure(s):\n",
    "- This function should return `True` if the string 'quit' is in `input_list`, and return `False` otherwise. "
   ]
  },
  {
   "cell_type": "code",
   "execution_count": 34,
   "metadata": {},
   "outputs": [
    {
     "data": {
      "text/plain": [
       "True"
      ]
     },
     "execution_count": 34,
     "metadata": {},
     "output_type": "execute_result"
    }
   ],
   "source": [
    "# Kill Chat \n",
    "def end_chat(input_list): \n",
    "        \n",
    "    if 'quit' in input_list:\n",
    "        output = True\n",
    "    else:\n",
    "        output = False \n",
    "    \n",
    "    return(output)\n",
    "\n",
    "\n",
    "end_chat(['quit'])"
   ]
  },
  {
   "cell_type": "markdown",
   "metadata": {},
   "source": [
    "## Pulling it all Together\n",
    "\n",
    "If everything has gone well with writing everything above, then we are ready to pull all these functions together to create our chatbot.\n",
    "\n",
    "The next few cells define a bunch of code, all provided for you. This code adds a couple more functions we can use and then defines some lists of inputs and outputs that our chatbot will know about. After that, there is a big function that pulls everything together and creates the procedure to use all of this code together as a chatbot. \n",
    "\n",
    "You don't have to write anything in the cells below (or in the rest of the assignment). \n",
    "\n",
    "Do have a quick read through the code though, to see how our chatbot works, and to see how all the functions you just wrote are used to create the chatbot. \n",
    "\n",
    "If you need, revisit the information at the beginning of this section about the logic our chatbot uses. \n",
    "\n",
    "You don't have to understand everything about what happens here, but try to have a first-pass look through it.\n",
    "\n",
    "We will build up to understanding and writing this kind of code that brings a lot of things together as we continue through the course. \n",
    "\n",
    "If the code seems intimidating, just scroll down to the bottom, and test out talking to our chatbot. "
   ]
  },
  {
   "cell_type": "code",
   "execution_count": 35,
   "metadata": {},
   "outputs": [],
   "source": [
    "# These are a couple more function, provided to you, to be used by our chatbot.\n",
    "\n",
    "def is_in_list(list_one, list_two):\n",
    "    \"\"\"Check if any element of list_one is in list_two.\"\"\"\n",
    "    \n",
    "    for element in list_one:\n",
    "        if element in list_two:\n",
    "            return True\n",
    "    return False\n",
    "\n",
    "def find_in_list(list_one, list_two):\n",
    "    \"\"\"Find and return an element from list_one that is in list_two, or None otherwise.\"\"\"\n",
    "    \n",
    "    for element in list_one:\n",
    "        if element in list_two:\n",
    "            return element\n",
    "    return None"
   ]
  },
  {
   "cell_type": "code",
   "execution_count": 36,
   "metadata": {},
   "outputs": [],
   "source": [
    "# This cell defines a collection of input and output things our chatbot can say and respond to\n",
    "\n",
    "GREETINGS_IN = ['hello', 'hi', 'hey', 'hola', 'welcome', 'bonjour', 'greetings']\n",
    "GREETINGS_OUT = [\"Hello, it's nice to talk to you!\", 'Nice to meet you!',  \"Hey - Let's chat!\"]\n",
    "\n",
    "COMP_IN = ['python', 'code', 'computer', 'algorithm', ]\n",
    "COMP_OUT = [\"Python is what I'm made of.\", \\\n",
    "            \"Did you know I'm made of code!?\", \\\n",
    "            \"Computers are so magical\", \\\n",
    "            \"Do you think I'll pass the Turing test?\"]\n",
    "\n",
    "PEOPLE_IN = ['turing', 'hopper', 'neumann', 'lovelace']\n",
    "PEOPLE_OUT = ['was awesome!', 'did so many important things!', 'is someone you should look up :).']\n",
    "PEOPLE_NAMES = {'turing': 'Alan', 'hopper': 'Grace', 'neumann': 'John von', 'lovelace': 'Ada'}\n",
    "\n",
    "JOKES_IN = ['funny', 'hilarious', 'ha', 'haha', 'hahaha', 'lol']\n",
    "JOKES_OUT = ['ha', 'haha', 'lol'] \n",
    "\n",
    "NONO_IN = ['matlab', 'java', 'C++']\n",
    "NONO_OUT = [\"I'm sorry, I don't want to talk about it\"]\n",
    "\n",
    "UNKNOWN = ['Good.', 'Okay', 'Huh?', 'Yeah!', 'Thanks!']\n",
    "\n",
    "QUESTION = \"I'm too shy to answer questions. What do you want to talk about instead?\""
   ]
  },
  {
   "cell_type": "code",
   "execution_count": 37,
   "metadata": {},
   "outputs": [],
   "source": [
    "def have_a_chat():\n",
    "    \"\"\"Main function to run our chatbot.\"\"\"\n",
    "    \n",
    "    chat = True\n",
    "    while chat:\n",
    "\n",
    "        # Get a message from the user\n",
    "        msg = input('INPUT :\\t')\n",
    "        out_msg = None\n",
    "\n",
    "        # Check if the input is a question\n",
    "        question = is_question(msg)\n",
    "\n",
    "        # Prepare the input message\n",
    "        msg = prepare_text(msg)\n",
    "\n",
    "        # Check for an end msg \n",
    "        if end_chat(msg):\n",
    "            out_msg = 'Bye!'\n",
    "            chat = False\n",
    "\n",
    "        # Check for a selection of topics that we have defined to respond to\n",
    "        #   Here, we will check for a series of topics that we have designed to answer to\n",
    "        if not out_msg:\n",
    "\n",
    "            # Initialize to collect a list of possible outputs\n",
    "            outs = []\n",
    "\n",
    "            # Check if the input looks like a greeting, add a greeting output if so\n",
    "            outs.append(selector(msg, GREETINGS_IN, GREETINGS_OUT))\n",
    "\n",
    "            # Check if the input looks like a computer thing, add a computer output if so\n",
    "            outs.append(selector(msg, COMP_IN, COMP_OUT))\n",
    "\n",
    "            # Check if the input mentions a person that is specified, add a person output if so\n",
    "            if is_in_list(msg, PEOPLE_IN):\n",
    "                name = find_in_list(msg, PEOPLE_IN)\n",
    "                outs.append(list_to_string([PEOPLE_NAMES[name], name.capitalize(),\n",
    "                                            selector(msg, PEOPLE_IN, PEOPLE_OUT)], ' '))\n",
    "\n",
    "            # Check if the input looks like a joke, add a repeat joke output if so\n",
    "            outs.append(respond_echo(selector(msg, JOKES_IN, JOKES_OUT), 3, ''))\n",
    "\n",
    "            # Check if the input has some words we don't want to talk about, say that, if so\n",
    "            if is_in_list(msg, NONO_IN):\n",
    "                outs.append(list_to_string([selector(msg, NONO_IN, NONO_OUT), find_in_list(msg, NONO_IN)], ' '))\n",
    "\n",
    "            # IF YOU WANTED TO ADD MORE TOPICS TO RESPOND TO, YOU COULD ADD THEM IN HERE\n",
    "\n",
    "            # We could have selected multiple outputs from the topic search above (if multiple return possible outputs)\n",
    "            #   We also might have appended None in some cases, meaning we don't have a reply\n",
    "            #   To deal with this, we are going to randomly select an output from the set of outputs that are not None\n",
    "            options = list(filter(None, outs))\n",
    "            if options:\n",
    "                out_msg = random.choice(options)\n",
    "\n",
    "        # If we don't have an output yet, but the input was a question, return msg related to it being a question\n",
    "        if not out_msg and question:\n",
    "            out_msg = QUESTION\n",
    "\n",
    "        # Catch-all to say something if msg not caught & processed so far\n",
    "        if not out_msg:\n",
    "            out_msg = random.choice(UNKNOWN)\n",
    "\n",
    "        print('OUTPUT:', out_msg)"
   ]
  },
  {
   "cell_type": "code",
   "execution_count": 38,
   "metadata": {},
   "outputs": [
    {
     "name": "stdout",
     "output_type": "stream",
     "text": [
      "INPUT :\tWelcome\n",
      "OUTPUT: Hello, it's nice to talk to you!\n",
      "INPUT :\tHow does it feel to be a program\n",
      "OUTPUT: Good.\n",
      "INPUT :\tSo you have feelings now?\n",
      "OUTPUT: I'm too shy to answer questions. What do you want to talk about instead?\n",
      "INPUT :\tNVM\n",
      "OUTPUT: Huh?\n"
     ]
    },
    {
     "ename": "KeyboardInterrupt",
     "evalue": "Interrupted by user",
     "output_type": "error",
     "traceback": [
      "\u001b[0;31m---------------------------------------------------------------------------\u001b[0m",
      "\u001b[0;31mKeyboardInterrupt\u001b[0m                         Traceback (most recent call last)",
      "\u001b[0;32m<ipython-input-38-5cc4e03a0b20>\u001b[0m in \u001b[0;36m<module>\u001b[0;34m\u001b[0m\n\u001b[1;32m      1\u001b[0m \u001b[0;31m# Talk to our chatbot\u001b[0m\u001b[0;34m\u001b[0m\u001b[0;34m\u001b[0m\u001b[0;34m\u001b[0m\u001b[0m\n\u001b[0;32m----> 2\u001b[0;31m \u001b[0mhave_a_chat\u001b[0m\u001b[0;34m(\u001b[0m\u001b[0;34m)\u001b[0m\u001b[0;34m\u001b[0m\u001b[0;34m\u001b[0m\u001b[0m\n\u001b[0m",
      "\u001b[0;32m<ipython-input-37-8770d0490b33>\u001b[0m in \u001b[0;36mhave_a_chat\u001b[0;34m()\u001b[0m\n\u001b[1;32m      6\u001b[0m \u001b[0;34m\u001b[0m\u001b[0m\n\u001b[1;32m      7\u001b[0m         \u001b[0;31m# Get a message from the user\u001b[0m\u001b[0;34m\u001b[0m\u001b[0;34m\u001b[0m\u001b[0;34m\u001b[0m\u001b[0m\n\u001b[0;32m----> 8\u001b[0;31m         \u001b[0mmsg\u001b[0m \u001b[0;34m=\u001b[0m \u001b[0minput\u001b[0m\u001b[0;34m(\u001b[0m\u001b[0;34m'INPUT :\\t'\u001b[0m\u001b[0;34m)\u001b[0m\u001b[0;34m\u001b[0m\u001b[0;34m\u001b[0m\u001b[0m\n\u001b[0m\u001b[1;32m      9\u001b[0m         \u001b[0mout_msg\u001b[0m \u001b[0;34m=\u001b[0m \u001b[0;32mNone\u001b[0m\u001b[0;34m\u001b[0m\u001b[0;34m\u001b[0m\u001b[0m\n\u001b[1;32m     10\u001b[0m \u001b[0;34m\u001b[0m\u001b[0m\n",
      "\u001b[0;32m~/opt/anaconda3/lib/python3.8/site-packages/ipykernel/kernelbase.py\u001b[0m in \u001b[0;36mraw_input\u001b[0;34m(self, prompt)\u001b[0m\n\u001b[1;32m    858\u001b[0m                 \u001b[0;34m\"raw_input was called, but this frontend does not support input requests.\"\u001b[0m\u001b[0;34m\u001b[0m\u001b[0;34m\u001b[0m\u001b[0m\n\u001b[1;32m    859\u001b[0m             )\n\u001b[0;32m--> 860\u001b[0;31m         return self._input_request(str(prompt),\n\u001b[0m\u001b[1;32m    861\u001b[0m             \u001b[0mself\u001b[0m\u001b[0;34m.\u001b[0m\u001b[0m_parent_ident\u001b[0m\u001b[0;34m,\u001b[0m\u001b[0;34m\u001b[0m\u001b[0;34m\u001b[0m\u001b[0m\n\u001b[1;32m    862\u001b[0m             \u001b[0mself\u001b[0m\u001b[0;34m.\u001b[0m\u001b[0m_parent_header\u001b[0m\u001b[0;34m,\u001b[0m\u001b[0;34m\u001b[0m\u001b[0;34m\u001b[0m\u001b[0m\n",
      "\u001b[0;32m~/opt/anaconda3/lib/python3.8/site-packages/ipykernel/kernelbase.py\u001b[0m in \u001b[0;36m_input_request\u001b[0;34m(self, prompt, ident, parent, password)\u001b[0m\n\u001b[1;32m    902\u001b[0m             \u001b[0;32mexcept\u001b[0m \u001b[0mKeyboardInterrupt\u001b[0m\u001b[0;34m:\u001b[0m\u001b[0;34m\u001b[0m\u001b[0;34m\u001b[0m\u001b[0m\n\u001b[1;32m    903\u001b[0m                 \u001b[0;31m# re-raise KeyboardInterrupt, to truncate traceback\u001b[0m\u001b[0;34m\u001b[0m\u001b[0;34m\u001b[0m\u001b[0;34m\u001b[0m\u001b[0m\n\u001b[0;32m--> 904\u001b[0;31m                 \u001b[0;32mraise\u001b[0m \u001b[0mKeyboardInterrupt\u001b[0m\u001b[0;34m(\u001b[0m\u001b[0;34m\"Interrupted by user\"\u001b[0m\u001b[0;34m)\u001b[0m \u001b[0;32mfrom\u001b[0m \u001b[0;32mNone\u001b[0m\u001b[0;34m\u001b[0m\u001b[0;34m\u001b[0m\u001b[0m\n\u001b[0m\u001b[1;32m    905\u001b[0m             \u001b[0;32mexcept\u001b[0m \u001b[0mException\u001b[0m \u001b[0;32mas\u001b[0m \u001b[0me\u001b[0m\u001b[0;34m:\u001b[0m\u001b[0;34m\u001b[0m\u001b[0;34m\u001b[0m\u001b[0m\n\u001b[1;32m    906\u001b[0m                 \u001b[0mself\u001b[0m\u001b[0;34m.\u001b[0m\u001b[0mlog\u001b[0m\u001b[0;34m.\u001b[0m\u001b[0mwarning\u001b[0m\u001b[0;34m(\u001b[0m\u001b[0;34m\"Invalid Message:\"\u001b[0m\u001b[0;34m,\u001b[0m \u001b[0mexc_info\u001b[0m\u001b[0;34m=\u001b[0m\u001b[0;32mTrue\u001b[0m\u001b[0;34m)\u001b[0m\u001b[0;34m\u001b[0m\u001b[0;34m\u001b[0m\u001b[0m\n",
      "\u001b[0;31mKeyboardInterrupt\u001b[0m: Interrupted by user"
     ]
    }
   ],
   "source": [
    "# Talk to our chatbot\n",
    "have_a_chat()"
   ]
  },
  {
   "cell_type": "markdown",
   "metadata": {},
   "source": [
    "### Extending Our Chatbot\n",
    "\n",
    "You might notice that our chatbot, right now, is pretty limited in how many things it can respond to.\n",
    "\n",
    "To respond to more topics, we could re-use these same functions, adding more input & output options for our chatbot to respond to, using the basic approaches and functionality we have defined here. \n"
   ]
  }
 ],
 "metadata": {
  "kernelspec": {
   "display_name": "Python 3",
   "language": "python",
   "name": "python3"
  },
  "language_info": {
   "codemirror_mode": {
    "name": "ipython",
    "version": 3
   },
   "file_extension": ".py",
   "mimetype": "text/x-python",
   "name": "python",
   "nbconvert_exporter": "python",
   "pygments_lexer": "ipython3",
   "version": "3.8.5"
  }
 },
 "nbformat": 4,
 "nbformat_minor": 4
}
