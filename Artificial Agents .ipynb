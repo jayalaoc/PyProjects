{
 "cells": [
  {
   "cell_type": "markdown",
   "metadata": {},
   "source": [
    "# Setup\n"
   ]
  },
  {
   "cell_type": "code",
   "execution_count": 1,
   "metadata": {},
   "outputs": [],
   "source": [
    "import random\n",
    "import string\n",
    "\n",
    "from time import sleep\n",
    "from IPython.display import clear_output"
   ]
  },
  {
   "cell_type": "markdown",
   "metadata": {},
   "source": [
    "## Part 1: Functions & Methods (re-visited) \n",
    "\n",
    "In this part, we will revisit and extend some work on using functions and methods.\n",
    "\n",
    "We will also write some functions that we will use later in the assignment for the 'bots' application."
   ]
  },
  {
   "cell_type": "markdown",
   "metadata": {},
   "source": [
    "### Q1 - String Methods \n",
    "\n",
    "First, we will explore some of methods from the `str` class."
   ]
  },
  {
   "cell_type": "markdown",
   "metadata": {},
   "source": [
    "#### a) `join`\n",
    "\n",
    "During the last assignment you made a function that echoed a string several times with a seperator between each repetition. \n",
    "\n",
    "Here we will achieve a similar goal through the use of the `join()` method of the `str` class. \n",
    "\n",
    "When `join()` is called on a `str` object (let's call it `seperator`) with a `list` as its argument, it joins the elements of the `list`, seperating each one by `seperator`. \n",
    "\n",
    "Below we define a a list `my_list`. Use the `join()` method on the string you define as `seperator = '~'` to join the elements in `my_list` seperated by the `'~'` character. \n",
    "\n",
    "Save the output to a new variable called `joined_string`. The output should look as follows:\n",
    "\n",
    "`'Python~is~so~much~fun'`"
   ]
  },
  {
   "cell_type": "code",
   "execution_count": 5,
   "metadata": {},
   "outputs": [
    {
     "name": "stdout",
     "output_type": "stream",
     "text": [
      "VirtualBox can let you run Linux on Mac\n"
     ]
    }
   ],
   "source": [
    "# This variable provided for you\n",
    "my_list = ['VirtualBox', 'can', 'let', 'you', 'run', 'Linux', 'on', 'Mac']\n",
    "\n",
    "joined_string = ' '.join(my_list) #using empty space\n",
    "print(joined_string)"
   ]
  },
  {
   "cell_type": "markdown",
   "metadata": {},
   "source": [
    "#### b) `replace`\n",
    "\n",
    "Now try to use the `replace` method to update the string `statement` such that it replaces `UCLA` to `UCSD`. \n",
    "\n",
    "If you are unsure how use `replace` you can run `str.replace?` to look at documentation.\n",
    "\n",
    "Note that using `replace` returns a new string that you need to assign to a variable if you want to keep a reference to it (`replace` is not 'inplace'). \n",
    "\n",
    "For this question, overwrite `statement` as the assignment to the output of the `replace` call."
   ]
  },
  {
   "cell_type": "code",
   "execution_count": 7,
   "metadata": {},
   "outputs": [
    {
     "name": "stdout",
     "output_type": "stream",
     "text": [
      "Kali Linux has the best tools to help you run penetration testing.\n"
     ]
    }
   ],
   "source": [
    "statement = 'Windows has the best tools to help you run penetration testing.'\n",
    "\n",
    "statement = statement.replace('Windows','Kali Linux')\n",
    "print(statement)"
   ]
  },
  {
   "cell_type": "markdown",
   "metadata": {},
   "source": [
    "#### c) `replace` for dropping characters\n",
    "\n",
    "Use the `replace` method to remove all the exclamation points in the string `excessive`.\n",
    "\n",
    "Assign the output of doing this to a variable called `fixed`.\n",
    "\n",
    "Hint: you can drop characters with `replace` by 'replacing' them with an empty string."
   ]
  },
  {
   "cell_type": "code",
   "execution_count": 9,
   "metadata": {},
   "outputs": [
    {
     "name": "stdout",
     "output_type": "stream",
     "text": [
      "Using excessive exclamation points is not always the best\n"
     ]
    }
   ],
   "source": [
    "excessive = 'Using!!! excessive!!! exclamation points!! is not always the best!!!!!!'\n",
    "\n",
    "#Using the reokace method, update the string to the desired sentence \n",
    "fixed = excessive.replace('!','')\n",
    "print(fixed)"
   ]
  },
  {
   "cell_type": "markdown",
   "metadata": {},
   "source": [
    "#### d) Clearing all punctuation with `replace`\n",
    "\n",
    "Now we want to generalize what we did in 'c)' to remove all punctuation using the `replace()` method.\n",
    "\n",
    "Write a `for` loop to loop over every character in `string.punctuation`. Inside the loop, call `replace` on `too_much` with the current punctuation character to remove it, like we did in 'c)'.\n",
    "\n",
    "To do this, inside the loop, re-assign `too_much` to be the ouput of calling `replace` on `too_much`, so that you are replacing `too_much` with it's updated version every time."
   ]
  },
  {
   "cell_type": "code",
   "execution_count": 11,
   "metadata": {},
   "outputs": [
    {
     "name": "stdout",
     "output_type": "stream",
     "text": [
      "I think that punctuation may be the best thing that ever happened to language\n"
     ]
    }
   ],
   "source": [
    "too_much = 'I, think th@at!! punctuation... may?>> be the bes$$$t th!ing that: ever! happened! to language!!!!!!'\n",
    "\n",
    "punctuations = '''!()-[]{};:'\"\\,<>./?@#$%^&*_~'''\n",
    "\n",
    "for item in too_much: \n",
    "        if item in punctuations: \n",
    "            too_much = too_much.replace(item, \"\") \n",
    "\n",
    "print(too_much)"
   ]
  },
  {
   "cell_type": "markdown",
   "metadata": {},
   "source": [
    "### Example: Functions with Default Values\n",
    "\n",
    "Note that functions can also have inputs with default values.\n",
    "\n",
    "This means you don't necessarily need to provide an input with a specific value, since if you don't provide it explicitly, it will take on the default value. \n",
    "\n",
    "The following is an example of a function with a default value, provided to you, so you can see what it looks like.\n",
    "\n",
    "You don't need to do anything with this function."
   ]
  },
  {
   "cell_type": "code",
   "execution_count": 13,
   "metadata": {},
   "outputs": [
    {
     "name": "stdout",
     "output_type": "stream",
     "text": [
      "4\n",
      "20\n"
     ]
    }
   ],
   "source": [
    "def default_function(input_number, n_value=2):\n",
    "    \"\"\"Multiplies an input number n times. Default value for n=2\n",
    "    \n",
    "    Parameters\n",
    "    ----------\n",
    "    input_number : float\n",
    "        Number to be multiplied.\n",
    "    n_value : int, optional\n",
    "        Number of times to multiply input.\n",
    "        \n",
    "    Returns\n",
    "    -------\n",
    "    output : float\n",
    "        Result of the multiplication. \n",
    "    \"\"\"\n",
    "    \n",
    "    # Multiple the input n times\n",
    "    output = input_number * n_value\n",
    "    \n",
    "    return output\n",
    "\n",
    "# Test using `default_function`\n",
    "print(default_function(2))\n",
    "print(default_function(2, 10))"
   ]
  },
  {
   "cell_type": "code",
   "execution_count": 14,
   "metadata": {},
   "outputs": [
    {
     "name": "stdout",
     "output_type": "stream",
     "text": [
      "-2\n",
      "100\n"
     ]
    }
   ],
   "source": [
    "# Function values can be also be defined by name\n",
    "print(default_function(n_value=-1, input_number=2))\n",
    "print(default_function(input_number=10, n_value=10, ))"
   ]
  },
  {
   "cell_type": "markdown",
   "metadata": {},
   "source": [
    "### Q2 - Default Value Functions "
   ]
  },
  {
   "cell_type": "markdown",
   "metadata": {},
   "source": [
    "#### a) Sort Keys\n",
    "\n",
    "Write a function called `sort_keys`, which will return a sorted version of the keys from an input dictionary. \n",
    "\n",
    "Input(s):\n",
    "- `dictionary` : dictionary\n",
    "- `reverse` : boolean, default: False\n",
    "\n",
    "Output(s):\n",
    "- `sorted_keys` : list\n",
    "\n",
    "Procedure(s):\n",
    "- Get the keys from the input `dictionary` using the `keys()` method (this will return a list of keys)\n",
    "- Use the `sorted` function to sort the list of keys. Pass in `reverse` to `sorted` to set whether to reverse the sort order\n",
    "- Return the sorted list of dictionary keys"
   ]
  },
  {
   "cell_type": "code",
   "execution_count": 15,
   "metadata": {},
   "outputs": [
    {
     "data": {
      "text/plain": [
       "['A', 'B', 'C', 'D', 'E']"
      ]
     },
     "execution_count": 15,
     "metadata": {},
     "output_type": "execute_result"
    }
   ],
   "source": [
    "def sort_keys(dictionary, reverse = False):\n",
    "    key = dictionary.keys()\n",
    "    \n",
    "    return sorted(key,reverse = reverse) \n",
    "\n",
    "sort_keys({'B': 2, 'A': 1, 'C': 3, 'E': 5, 'D': 4})"
   ]
  },
  {
   "cell_type": "markdown",
   "metadata": {},
   "source": [
    "#### b) List Powers \n",
    "\n",
    "Write a function called `list_powers`. \n",
    "\n",
    "This function will take a list, and return a new list where each element is exponentiated to a specified power. \n",
    "\n",
    "Input(s):\n",
    "- `collection` - collection of numbers\n",
    "- `power` - int, default value: 2\n",
    "\n",
    "Output(s):\n",
    "- `power_list` - list of numbers\n",
    "\n",
    "Procedure(s):\n",
    "- Initialize an empty list to be filled and returned\n",
    "- Loop through each element in the input `collection`\n",
    "    - Take the value to the power specified in `power`\n",
    "    - Append the result to the output list\n",
    "- Return the list of powers"
   ]
  },
  {
   "cell_type": "code",
   "execution_count": 18,
   "metadata": {},
   "outputs": [
    {
     "name": "stdout",
     "output_type": "stream",
     "text": [
      "[2, 4] [4, 16] [8, 64]\n"
     ]
    }
   ],
   "source": [
    "def list_powers(collection, power = 2):\n",
    "    power_list = []\n",
    "    \n",
    "    for item in collection:\n",
    "        result = item**power\n",
    "        power_list.append(result)\n",
    "    return(power_list)\n",
    "\n",
    "print( list_powers([2,4], 1), list_powers((2, 4)), list_powers([2, 4], 3) )"
   ]
  },
  {
   "cell_type": "markdown",
   "metadata": {},
   "source": [
    "### Example: Zip\n",
    "\n",
    "A reasonably common task in Python is to want to iterate across multiple collections items together.\n",
    "\n",
    "To do so, we have the function `zip`, which takes in collection types, and let's you step across them together. \n",
    "\n",
    "This allows you to get, for example, the 0th item of each collection, and then the 1st item of each collection, etc.\n",
    "\n",
    "Below is an example of using `zip`."
   ]
  },
  {
   "cell_type": "code",
   "execution_count": 20,
   "metadata": {},
   "outputs": [
    {
     "name": "stdout",
     "output_type": "stream",
     "text": [
      "1 a\n",
      "2 b\n",
      "3 c\n"
     ]
    }
   ],
   "source": [
    "# Define some collection objects\n",
    "list1 = [1, 2, 3]\n",
    "list2 = ['a', 'b', 'c']\n",
    "\n",
    "# Use zip, in a loop, to loop across both collections at the same time\n",
    "for item1, item2 in zip(list1, list2):\n",
    "    print(item1, item2)"
   ]
  },
  {
   "cell_type": "markdown",
   "metadata": {},
   "source": [
    "### Q3 - Functions for Later \n",
    "\n",
    "In this section we will write a set of functions that will be useful for us to use later, with our artificial agents."
   ]
  },
  {
   "cell_type": "markdown",
   "metadata": {},
   "source": [
    "### a) Add Lists\n",
    "\n",
    "Write a function called `add_lists`.\n",
    "\n",
    "Input(s):\n",
    "- `list1` - list of numbers\n",
    "- `list2` - list of numbers\n",
    "\n",
    "Output(s):\n",
    "- `ouput` - list of numbers\n",
    "\n",
    "Procedure(s):\n",
    "- Initialize a new list `output`\n",
    "- Using `zip`, loop through elements of both `list1` and `list2`\n",
    "    - In each iteration, append the sum of the elements to `output`\n",
    "- Return `output`"
   ]
  },
  {
   "cell_type": "code",
   "execution_count": 22,
   "metadata": {},
   "outputs": [
    {
     "data": {
      "text/plain": [
       "[2, 5, 8, 11, 13, 15]"
      ]
     },
     "execution_count": 22,
     "metadata": {},
     "output_type": "execute_result"
    }
   ],
   "source": [
    "#Similar to adding to vectors\n",
    "list1 = [1,2,3,4,5,6]\n",
    "list2 = [1,3,5,7,8,9]\n",
    "\n",
    "def add_lists(list1, list2):\n",
    "    output = []\n",
    "    \n",
    "    for a,b in zip(list1,list2):\n",
    "        output.append(a + b)\n",
    "    \n",
    "    return(output)\n",
    "\n",
    "add_lists(list1, list2)"
   ]
  },
  {
   "cell_type": "markdown",
   "metadata": {},
   "source": [
    "### b)  Check Bounds\n",
    "\n",
    "Write a function called `check_bounds`.\n",
    "\n",
    "We will be using this function later in our bots. It checks whether a position, given as, for example [2, 3] is within the bounds of a grid of a particular size (say, a 4 x 4 square grid). \n",
    "\n",
    "Input(s):\n",
    "- `position` - list of int\n",
    "- `size` - int\n",
    "\n",
    "Output(s):\n",
    "- `boolean`\n",
    "\n",
    "Procedure(s):\n",
    "- Loop across each element in `position`.\n",
    "    - Check if the element is less than 0, or greater than or equal to `size`\n",
    "        - If so, return `False`\n",
    "- Outside and after the loop, return `True`\n",
    "\n",
    "Note that this means the function will return `False` if any element is outside the specified bounds. \n",
    "\n",
    "After checking all elements, if it hasn't returned yet, it returns `True` to indicate all elements are indeed within the bounds. "
   ]
  },
  {
   "cell_type": "code",
   "execution_count": 32,
   "metadata": {},
   "outputs": [
    {
     "data": {
      "text/plain": [
       "True"
      ]
     },
     "execution_count": 32,
     "metadata": {},
     "output_type": "execute_result"
    }
   ],
   "source": [
    "def check_bounds(position, size):    \n",
    "    \n",
    "    \n",
    "    for item in position:\n",
    "        if item < 0 or item >= size:\n",
    "            return False\n",
    "    return True \n",
    "    \n",
    "        \n",
    "check_bounds([2, 2], 4) "
   ]
  },
  {
   "cell_type": "markdown",
   "metadata": {},
   "source": [
    "## Part 2: Classes\n",
    "\n",
    "In this section we will be working with classes - building several classes to solve a variety of problems."
   ]
  },
  {
   "cell_type": "markdown",
   "metadata": {},
   "source": [
    "### Q4 - Creating a Class\n",
    "\n",
    "We can start with a class object to make a 'schedule book' for our course Office Hours. \n",
    "\n",
    "Create a class called `OfficeHours`\n",
    "\n",
    "- Class Attributes:\n",
    "    - `course`, which has the value \"COGS18\"\n",
    "- Instance Attibutes:\n",
    "    - `name` : string\n",
    "    - `day` : string\n",
    "    - `time` : string\n",
    "    - `place` : string\n",
    "    - Note: all these attributes should be passed into the `__init__`, and attached to the object in there.\n",
    "- Method\n",
    "    - `check()`\n",
    "        - This method should print out information, to look something like:\n",
    "            - `Tom's office hours are on Tuesday at 12:30 in CSB115.`\n",
    "            - Note that this should use the instance attributes to print out `name`, `day`, `time` & `place` of the particular instance. "
   ]
  },
  {
   "cell_type": "code",
   "execution_count": 42,
   "metadata": {},
   "outputs": [
    {
     "name": "stdout",
     "output_type": "stream",
     "text": [
      "COGS18\n",
      "Instructor's' office hours on Tuesday at 12:30 in CSB115\n",
      "None\n"
     ]
    }
   ],
   "source": [
    "class OfficeHours():\n",
    "    #Class attributes for the object of type OfficeHours \n",
    "    course = \"COGS18\"\n",
    "    \n",
    "    #Instance attributes using __init__\n",
    "    def __init__ (self, name, day, time, place):\n",
    "        self.name = name \n",
    "        self.day = day \n",
    "        self.time = time \n",
    "        self.place = place \n",
    "    \n",
    "    #method to check()\n",
    "    def check(self):\n",
    "        print(self.name + \"'s'\" + \" office hours on \" + self.day + \" at \" + self.time + ' in ' + self.place)\n",
    "\n",
    "print(OfficeHours.course)\n",
    "\n",
    "name = \"Instructor\"\n",
    "day = \"Tuesday\"\n",
    "time = \"12:30\"\n",
    "place = \"CSB115\"\n",
    "\n",
    "test_oh = OfficeHours(name, day, time, place)\n",
    "print(test_oh.check())"
   ]
  },
  {
   "cell_type": "markdown",
   "metadata": {},
   "source": [
    "Here is a list of some office hours:\n",
    "- Tom - Monday @ 12:30 in SDSC 212e\n",
    "- Rob - Wednesday @ 2:00 in CSB 114\n",
    "- Daril - Tuesday @ 10:00 in CSB 115\n",
    "- Paolo - Friday @ 1:00 in CSB 106\n",
    "\n",
    "Create a new instance of the OfficeHours class for each of the office hours listed above. \n",
    "\n",
    "Then store each of these instances together in a list called `all_office_hours`. "
   ]
  },
  {
   "cell_type": "code",
   "execution_count": 43,
   "metadata": {},
   "outputs": [],
   "source": [
    "Tom = OfficeHours('Tom','Monday', '12:30', 'SDSC 212e')\n",
    "Rob = OfficeHours('Rob', 'Wednesday', '2:00', 'CSB 114')\n",
    "Daril = OfficeHours('Daril', 'Tuesday', '10:00', 'CSB 115')\n",
    "Paolo = OfficeHours('Paolo', 'Friday', '1:00', 'CSB 106')\n",
    "\n",
    "all_office_hours = [Tom, Rob, Daril, Paolo]"
   ]
  },
  {
   "cell_type": "markdown",
   "metadata": {},
   "source": [
    "Now write a function called `check_all` that will take in a list of OfficeHour objects, and will call the `check` method on each one, using a loop to loop across each element in the input list. \n",
    "\n",
    "Call this function on your `all_office_hours` list to make sure that it works as expected. \n",
    "\n",
    "You should see that running this function prints out a string of information for each object, that looks like:\n",
    "\n",
    "    Tom's office hours are on Monday at 12:30 in SDSC 212e.\n",
    "    Rob's office hours are on Wednesday at 2:00 in CSB 114.\n",
    "    Daril's office hours are on Tuesday at 10:00 in CSB 115.\n",
    "    Paolo's office hours are on Friday at 1:00 in CSB 106."
   ]
  },
  {
   "cell_type": "code",
   "execution_count": 44,
   "metadata": {},
   "outputs": [
    {
     "name": "stdout",
     "output_type": "stream",
     "text": [
      "Tom's' office hours on Monday at 12:30 in SDSC 212e\n",
      "Rob's' office hours on Wednesday at 2:00 in CSB 114\n",
      "Daril's' office hours on Tuesday at 10:00 in CSB 115\n",
      "Paolo's' office hours on Friday at 1:00 in CSB 106\n"
     ]
    }
   ],
   "source": [
    "def check_all(all_office_hours):\n",
    "    for item in all_office_hours:\n",
    "        item.check()\n",
    "        \n",
    "check_all(all_office_hours)"
   ]
  },
  {
   "cell_type": "markdown",
   "metadata": {},
   "source": [
    "### Q5 - Car Inventory\n",
    "\n",
    "For this question you will create an object to store information on an inventory of cars.  \n",
    "\n",
    "Create a class called `CarInventory`\n",
    "\n",
    "- Instance Attibutes:\n",
    "    - `n_cars` : int\n",
    "    - `cars` : list\n",
    "- Methods\n",
    "    - `add_car()`\n",
    "    - `compare()`\n",
    "\n",
    "Details:\n",
    "- The constructor (`__init__`) should take no inputs, but set `n_cars` to 0, and `cars` to be `[]` (an empty list). \n",
    "\n",
    "#### Method: `add_car`\n",
    "\n",
    "Input(s):\n",
    "- `manufacturer` : string\n",
    "- `model` : string\n",
    "- `year` : int\n",
    "- `mpg` : float\n",
    "\n",
    "Procedure(s):\n",
    "- Create a dictionary from the values passed with the corresponding keys 'manufacturer', 'model', 'year' and 'mpg'\n",
    "- Append this dictionary to the `cars` attribute\n",
    "- Increment the `n_cars` attribute by 1\n",
    "\n",
    "#### Method: `compare`\n",
    "\n",
    "This method will compare all the cars on a specified `attribute` ('year', or 'mpg'), and find the highest and lowest values. It will return either the highest of lowest value, depending on the setting in a parameter `direction`. \n",
    "\n",
    "Input(s):\n",
    "- `attribute` : string\n",
    "- `direction` : string, default: 'highest'\n",
    "\n",
    "Procedure(s):\n",
    "- Initialize a variable called `lowest` to be the 0th element of `cars`, and another variable `highest` to be the same\n",
    "- Loop through each car in cars\n",
    "    - If the value of the attribute for the car is less than the car stored as `lowest`, replace `lowest` to be the current car\n",
    "    - Similarly, if the value of the attribute for the car is greater than the car stored as `highest`, replace `highest` to be the current car\n",
    "- After the loop, if the value of `direction` is 'highest', set a new variable `output` to be the variable `highest`\n",
    "    - Else if the value of `direction` is 'lowest', set `output` to be `lowest`\n",
    "- Return `output`"
   ]
  },
  {
   "cell_type": "code",
   "execution_count": 45,
   "metadata": {},
   "outputs": [],
   "source": [
    "class CarInventory():\n",
    "    \n",
    "    def __init__(self):\n",
    "        self.n_cars = 0\n",
    "        self.cars = []\n",
    "        \n",
    "    def add_car(self, manufacturer, model, year, mpg):\n",
    "        dictionary = {'manufacturer': manufacturer, 'model': model, 'year': year, 'mpg': mpg}\n",
    "        self.cars.append(dictionary)\n",
    "        self.n_cars += 1\n",
    "        \n",
    "    def compare(self, attribute, direction = 'highest'):\n",
    "        \n",
    "        lowest = self.cars[0]\n",
    "        highest = self.cars[0]\n",
    "        \n",
    "        for item in self.cars:\n",
    "            value = item[attribute]\n",
    "            if value < lowest[attribute]:\n",
    "                lowest = item\n",
    "            if value > highest[attribute]:\n",
    "                highest = item\n",
    "        \n",
    "        if direction == 'highest':\n",
    "            output = highest\n",
    "        else: \n",
    "            output = lowest \n",
    "            \n",
    "        return(output)"
   ]
  },
  {
   "cell_type": "code",
   "execution_count": 49,
   "metadata": {},
   "outputs": [
    {
     "data": {
      "text/plain": [
       "<__main__.CarInventory at 0x7f900127e880>"
      ]
     },
     "execution_count": 49,
     "metadata": {},
     "output_type": "execute_result"
    }
   ],
   "source": [
    "#Create the object test_car_inv\n",
    "test_car_inv = CarInventory()\n",
    "test_car_inv"
   ]
  },
  {
   "cell_type": "code",
   "execution_count": 55,
   "metadata": {},
   "outputs": [
    {
     "data": {
      "text/plain": [
       "<bound method CarInventory.add_car of <__main__.CarInventory object at 0x7f9001263a90>>"
      ]
     },
     "execution_count": 55,
     "metadata": {},
     "output_type": "execute_result"
    }
   ],
   "source": [
    "#add car method\n",
    "test_inv = CarInventory()\n",
    "test_inv.add_car('Toyota', 'Prius', 2012, 36)\n",
    "test_inv.add_car"
   ]
  },
  {
   "cell_type": "code",
   "execution_count": 58,
   "metadata": {},
   "outputs": [],
   "source": [
    "#Compare method\n",
    "test_inv = CarInventory()\n",
    "test_inv.add_car('Toyota', 'Prius', 2012, 36)\n",
    "test_inv.add_car('BMW', 'M3', 2017, 27)"
   ]
  },
  {
   "cell_type": "markdown",
   "metadata": {},
   "source": [
    "#### b) Using our class\n",
    "\n",
    "Using the `inventory` instance created for you in the cell below, do the following:\n",
    "\n",
    "- Use `compare` to get the car with the highest mpg, and get the manufacturer of that car from the returned car\n",
    "    - Store the answer in a variable called `highest_mpg`\n",
    "- Use `compare` to get the car with the lowest year, and get the model of that car from the returned car\n",
    "    - Store the answer in a variable called `oldest_car`"
   ]
  },
  {
   "cell_type": "code",
   "execution_count": 59,
   "metadata": {},
   "outputs": [],
   "source": [
    "inventory = CarInventory()\n",
    "inventory.add_car('Ford', 'Mustang', 2004, 20)\n",
    "inventory.add_car('Honda', 'Civic', 2014, 40)\n",
    "inventory.add_car('Toyota', 'Corrolla', 2010, 50)\n",
    "inventory.add_car('Tesla', 'S', 2017, 1000)"
   ]
  },
  {
   "cell_type": "code",
   "execution_count": 60,
   "metadata": {},
   "outputs": [
    {
     "data": {
      "text/plain": [
       "{'manufacturer': 'Ford', 'model': 'Mustang', 'year': 2004, 'mpg': 20}"
      ]
     },
     "execution_count": 60,
     "metadata": {},
     "output_type": "execute_result"
    }
   ],
   "source": [
    "# Example: Get the least efficient car (lowest mpg)\n",
    "inventory.compare('mpg', 'lowest')"
   ]
  },
  {
   "cell_type": "code",
   "execution_count": 61,
   "metadata": {},
   "outputs": [
    {
     "data": {
      "text/plain": [
       "1000"
      ]
     },
     "execution_count": 61,
     "metadata": {},
     "output_type": "execute_result"
    }
   ],
   "source": [
    "# Example: Get the newest car (highest year), and extract it's mpg\n",
    "inventory.compare('year', 'highest')['mpg']"
   ]
  },
  {
   "cell_type": "code",
   "execution_count": 62,
   "metadata": {},
   "outputs": [
    {
     "name": "stdout",
     "output_type": "stream",
     "text": [
      "Tesla\n",
      "Mustang\n"
     ]
    }
   ],
   "source": [
    "highest_mpg = inventory.compare('mpg', 'highest')['manufacturer']\n",
    "print(highest_mpg)\n",
    "\n",
    "oldest_car = inventory.compare('manufacturer', 'lowest')['model']\n",
    "print(oldest_car)"
   ]
  },
  {
   "cell_type": "markdown",
   "metadata": {},
   "source": [
    "### Example: Class Inheritance\n",
    "\n",
    "The following is an extra example of class inheritance. "
   ]
  },
  {
   "cell_type": "code",
   "execution_count": 65,
   "metadata": {},
   "outputs": [],
   "source": [
    "class CollegeCourse:\n",
    "    \n",
    "    university = \"UC San Diego\"\n",
    "    \n",
    "    def __init__(self, department, code, title):\n",
    "        \"\"\"\n",
    "        department: string\n",
    "        code: int\n",
    "        title: string\n",
    "        \"\"\"\n",
    "    \n",
    "        self.department = department\n",
    "        self.code = code\n",
    "        self.title = title\n",
    "    \n",
    "    def print_info(self):\n",
    "        print(self.department + str(self.code) + ': ' + self.title)"
   ]
  },
  {
   "cell_type": "code",
   "execution_count": 66,
   "metadata": {},
   "outputs": [],
   "source": [
    "# By passing in `TritonCourse` to our new class, we create a derived class that inherits from `TritonCourse`\n",
    "class CollegeProgCourse(CollegeCourse):\n",
    "\n",
    "    def __init__(self, department, code, title, language):\n",
    "        \n",
    "        # Call the initializer from the class we inherited from\n",
    "        #  `super` refers to the class that this class inherits from\n",
    "        super().__init__(department, code, title)\n",
    "        \n",
    "        # Add a new instance attribute to our derived class\n",
    "        self.language = language"
   ]
  },
  {
   "cell_type": "code",
   "execution_count": 68,
   "metadata": {},
   "outputs": [],
   "source": [
    "# Example: create an instance from our derived class\n",
    "cogs18 = CollegeProgCourse('COGS', 18, 'Introduction to Python', 'Python')"
   ]
  },
  {
   "cell_type": "code",
   "execution_count": 69,
   "metadata": {},
   "outputs": [
    {
     "name": "stdout",
     "output_type": "stream",
     "text": [
      "UC San Diego\n",
      "COGS18: Introduction to Python\n"
     ]
    }
   ],
   "source": [
    "# Note that our derived class inherits any class attributes & methods from the inherited class\n",
    "print(cogs18.university)\n",
    "cogs18.print_info()"
   ]
  },
  {
   "cell_type": "code",
   "execution_count": 70,
   "metadata": {},
   "outputs": [
    {
     "data": {
      "text/plain": [
       "'Python'"
      ]
     },
     "execution_count": 70,
     "metadata": {},
     "output_type": "execute_result"
    }
   ],
   "source": [
    "# Our derived class also has any extra and unique attributes and/or methods that we add to it\n",
    "cogs18.language"
   ]
  },
  {
   "cell_type": "markdown",
   "metadata": {},
   "source": [
    "### Q6 - Extending our Class through Inheritance\n",
    "\n",
    "Create a `TritonCogsCourse` class that inherits from `TritonCourse`.\n",
    "\n",
    "You can model your answer to this based on how we made `TritonProgCourse` above.\n",
    "\n",
    "`TritonCogsCourse` should inherit from `TritonCourse` and calls it's super's `__init__`. \n",
    "\n",
    "In addition, in it's own `__init__`, it should take an extra parameter called `area`, which will store which area of Cognitive Science the class is related to. \n",
    "\n",
    "`area` should have a default value of `None`. \n",
    "\n",
    "Finally, add a method called `has_area` that returns `True` if the instance has an area defined (is not None), and returns `False` if area is equal to `None`."
   ]
  },
  {
   "cell_type": "code",
   "execution_count": 71,
   "metadata": {},
   "outputs": [],
   "source": [
    "#Class inheritance\n",
    "class TritonCogsCourse(CollegeCourse):\n",
    "    def __init__(self, department, code, title, area = None):\n",
    "        super().__init__(department, code, title)\n",
    "        self.area = area\n",
    "        \n",
    "    def has_area(self):\n",
    "        if self.area != None: \n",
    "            return True \n",
    "        else: \n",
    "            return False"
   ]
  },
  {
   "cell_type": "code",
   "execution_count": 74,
   "metadata": {},
   "outputs": [
    {
     "data": {
      "text/plain": [
       "<__main__.TritonCogsCourse at 0x7f90012ff9a0>"
      ]
     },
     "execution_count": 74,
     "metadata": {},
     "output_type": "execute_result"
    }
   ],
   "source": [
    "test_class = TritonCogsCourse('COGS', '108', 'Data Science in Practice')\n",
    "cogs108 = TritonCogsCourse('COGS', '108', 'Data Science in Practice', 'Data Science')\n",
    "\n",
    "test_class\n",
    "cogs108"
   ]
  },
  {
   "cell_type": "markdown",
   "metadata": {},
   "source": [
    "## Part 3: Artificial Agents\n",
    "\n",
    "In this last part of the assignment, we will create some 'Bots' - little artificial agents that can move around a predefined space.\n",
    "\n",
    "They will be in the style of PacMan, or little exploration bots. \n",
    "\n",
    "Each of these bots will be able to explore a predefined world, which is a grid of 'dots' (locations).  \n",
    "\n",
    "This grid has labelled locations that can be referenced by a list of integers, with [0, 0] being the top left most corner, and so on.\n",
    "\n",
    "Each bot will have a `move` method, which updates the bot's position, thus moving it around the world.\n",
    "\n",
    "As you start building some bots, there will be a series of test cells that test out your bots on a 'board'. \n",
    "\n",
    "Make sure these cells run to completion without errors - if the cells with `play_board` in them raise an error, there is something wrong with your bot. \n",
    "\n",
    "Note that some errors could come from the functions your wrote above that get used here. "
   ]
  },
  {
   "cell_type": "code",
   "execution_count": 75,
   "metadata": {},
   "outputs": [],
   "source": [
    "# This function provided to you to run your bots on a grid world\n",
    "#   You don't have to do anything with this function\n",
    "def play_board(bots, n_iter=25, grid_size=5, sleep_time=0.3):\n",
    "    \"\"\"Run a bot across a board.\n",
    "    \n",
    "    Parameters\n",
    "    ----------\n",
    "    bots : Bot() type or list of Bot() type\n",
    "        One or more bots to be be played on the board\n",
    "    n_iter : int, optional\n",
    "        Number of turns to play on the board. default = 25\n",
    "    grid_size : int, optional\n",
    "        Board size. default = 5\n",
    "    sleep_time : float, optional\n",
    "        Amount of time to pause between turns. default = 0.3.\n",
    "    \"\"\"\n",
    "    \n",
    "    # If input is a single bot, put it in a list so that procedures work\n",
    "    if not isinstance(bots, list):\n",
    "        bots = [bots]\n",
    "    \n",
    "    # Update each bot to know about the grid_size they are on\n",
    "    for bot in bots:\n",
    "        bot.grid_size = grid_size\n",
    "\n",
    "    for it in range(n_iter):\n",
    "\n",
    "        # Create the grid\n",
    "        grid_list = [['.'] * grid_size for ncols in range(grid_size)]\n",
    "        \n",
    "        # Add bot(s) to the grid\n",
    "        for bot in bots:\n",
    "            grid_list[bot.position[0]][bot.position[1]] = bot.character    \n",
    "\n",
    "        # Clear the previous iteration, print the new grid (as a string), and wait\n",
    "        clear_output(True)\n",
    "        print('\\n'.join([' '.join(lst) for lst in grid_list]))\n",
    "        sleep(sleep_time)\n",
    "\n",
    "        # Update bot position(s) for next turn\n",
    "        for bot in bots:\n",
    "            bot.move()"
   ]
  },
  {
   "cell_type": "markdown",
   "metadata": {},
   "source": [
    "### Q7 - Bot Base Class\n",
    "\n",
    "Create a class called `Bot`. This will be our base class for all the bots that we make in this section. \n",
    "\n",
    "- Instance Attibutes:\n",
    "    - `character` - string\n",
    "    - `position` - list of [int, int]\n",
    "    - `moves` - list of list of [int, int]\n",
    "    - `grid_size` - `None` or int\n",
    "\n",
    "Of these instance attributes, only `character` should be taken in as an input to `__init__`, with a default value of 8982.\n",
    "\n",
    "Inside the init:\n",
    "- `self.character` should be set as the `chr` of input `character`\n",
    "- `self.position` should be set to starting position `[0, 0]`\n",
    "- `self.moves` should be set as the list of possible moves, which are `[[-1, 0], [1, 0], [0, 1], [0, -1]]`\n",
    "- `self.grid_size` should be initialized as None"
   ]
  },
  {
   "cell_type": "code",
   "execution_count": 77,
   "metadata": {},
   "outputs": [],
   "source": [
    "class Bot:\n",
    "  \n",
    "    def __init__(self, character = 8982):\n",
    "        self.character = chr(character)\n",
    "        self. position = [0,0] #starting position\n",
    "        self.moves = [[-1, 0], [1, 0], [0, 1], [0, -1]] #left,right and up,down\n",
    "        self.grid_size = None"
   ]
  },
  {
   "cell_type": "code",
   "execution_count": 78,
   "metadata": {},
   "outputs": [
    {
     "data": {
      "text/plain": [
       "<__main__.Bot at 0x7f90012d20d0>"
      ]
     },
     "execution_count": 78,
     "metadata": {},
     "output_type": "execute_result"
    }
   ],
   "source": [
    "bot = Bot()\n",
    "bot"
   ]
  },
  {
   "cell_type": "markdown",
   "metadata": {},
   "source": [
    "### Q8 - WanderBot\n",
    "\n",
    "Create a class called `WanderBot`, that inherits from `Bot`. `WanderBot` is a bot that will wander around randomly. \n",
    "\n",
    "- In the `__init__`, it should simply call the init from `super` (and adds no extra instance attributes)\n",
    "- Note that to do this, the `__init__` should take a `character` input, with the same default (8982)\n",
    "    - This value will need to be passed into the super's `__init__`\n",
    "\n",
    "Add two methods to WanderBot:\n",
    "\n",
    "#### Method:  `wander`\n",
    "\n",
    "This method will choose a random move from the possibilities, making sure that move is valid on the current grid.\n",
    "\n",
    "Procedure:\n",
    "- Initialize a boolean variable `has_new_pos` as `False`\n",
    "- Use a while loop, with the condition `not has_new_pos`\n",
    "    - Set a variable `move` as the ouput of calling `random.choice` on `self.moves`\n",
    "    - Add `move` to `self.position`, using `add_lists` (a function we created earlier), and assign the output to a new variable `new_pos`\n",
    "    - Call `check_bounds` on `new_pos`, also passing `self.grid_size` into `check_bounds`\n",
    "        - Assign the output of `check_bounds` to `has_new_pos`\n",
    "        - This will lead to exiting the loop when a valid new position has been assigned\n",
    "- Return `new_pos`\n",
    "\n",
    "#### Method: `move`\n",
    "- No inputs (other than `self`) or outputs, just sets `self.position` to be the output of calling `self.wander()`. "
   ]
  },
  {
   "cell_type": "code",
   "execution_count": 79,
   "metadata": {},
   "outputs": [],
   "source": [
    "#Inherit Class \n",
    "class WanderBot(Bot):\n",
    "    def __init__(self, character = 8982):\n",
    "        super().__init__(character)\n",
    "        \n",
    "    def wander(self):\n",
    "\n",
    "        has_new_pos = False \n",
    "\n",
    "        while  not has_new_pos:\n",
    "            move = random.choice(self.moves)\n",
    "            new_pos = add_lists(move, self.position)\n",
    "            has_new_pos = check_bounds(new_pos, self.grid_size)\n",
    "        return(new_pos)\n",
    "    \n",
    "    def move(self):\n",
    "        self.position = self.wander()"
   ]
  },
  {
   "cell_type": "code",
   "execution_count": 80,
   "metadata": {},
   "outputs": [
    {
     "data": {
      "text/plain": [
       "<__main__.WanderBot at 0x7f90012e2400>"
      ]
     },
     "execution_count": 80,
     "metadata": {},
     "output_type": "execute_result"
    }
   ],
   "source": [
    "wbot = WanderBot()\n",
    "wbot"
   ]
  },
  {
   "cell_type": "code",
   "execution_count": 81,
   "metadata": {},
   "outputs": [],
   "source": [
    "wbot = WanderBot()\n",
    "wbot.grid_size = 3\n",
    "\n",
    "wbot.move()"
   ]
  },
  {
   "cell_type": "code",
   "execution_count": 82,
   "metadata": {},
   "outputs": [
    {
     "name": "stdout",
     "output_type": "stream",
     "text": [
      ". . . . .\n",
      ". . . . .\n",
      "⌖ . . . .\n",
      ". . . . .\n",
      ". . . . .\n"
     ]
    }
   ],
   "source": [
    "# Test out our WanderBot\n",
    "#   You should see a 'bot' that steps around different positions randomly\n",
    "bot = WanderBot()\n",
    "play_board(bot, grid_size=5)"
   ]
  },
  {
   "cell_type": "code",
   "execution_count": 86,
   "metadata": {},
   "outputs": [
    {
     "name": "stdout",
     "output_type": "stream",
     "text": [
      ". . җ . . . . .\n",
      ". . . ғ . . . .\n",
      ". . . . . . . .\n",
      ". . . . . . . .\n",
      ". . . . . . . .\n",
      ". . . . . . . .\n",
      ". . . . . . . .\n",
      ". ҕ . . . . . .\n"
     ]
    }
   ],
   "source": [
    "# Test out running a group of WanderBots\n",
    "bots = [WanderBot(character=1173), WanderBot(character=1171), WanderBot(character=1175)]\n",
    "play_board(bots, grid_size=8, n_iter=25)"
   ]
  },
  {
   "cell_type": "markdown",
   "metadata": {},
   "source": [
    "### Example: Random Probabilistic Choices\n",
    "\n",
    "For our next bot, we want to be able to make random choice, but with a specified probability. \n",
    "\n",
    "We will use a quick trick to do so:\n",
    "- from the `random` module, we can use the `random()` function to uniformly sample a decimal between 0 and 1\n",
    "- by checking if that random sample is below some value `prob`, we will (on average) make that choice `prob` % of the time\n",
    "\n",
    "An example of this idea is shown below. "
   ]
  },
  {
   "cell_type": "code",
   "execution_count": 87,
   "metadata": {},
   "outputs": [
    {
     "name": "stdout",
     "output_type": "stream",
     "text": [
      "0.8883425521190221\n"
     ]
    }
   ],
   "source": [
    "# Print out a random decimal value between 0 - 1\n",
    "print(random.random())"
   ]
  },
  {
   "cell_type": "code",
   "execution_count": 88,
   "metadata": {},
   "outputs": [
    {
     "name": "stdout",
     "output_type": "stream",
     "text": [
      "This will print out 75% of the time\n"
     ]
    }
   ],
   "source": [
    "# Example of a random probabilistic choice with a specified probability\n",
    "if random.random() < 0.75:\n",
    "    print('This will print out 75% of the time')"
   ]
  },
  {
   "cell_type": "markdown",
   "metadata": {},
   "source": [
    "### Q9 - ExploreBot\n",
    "\n",
    "Create a class called `ExploreBot`, that inherits from `Bot`. \n",
    "\n",
    "`ExploreBot` is a bot that will explore more systematically, generally continuing in the same direction on consecutive steps.\n",
    "\n",
    "- In the `__init__`, it should call the `__init__` from `super`\n",
    "- Note that to do this, the `__init__` should take a `character` input, with the same default (8982)\n",
    "    - This value will need to be passed into the super's `__init__`\n",
    "- The `__init__` should take an extra input, `move_prob` with default value of 0.75\n",
    "- Add `move_prob` as an instance attribute, and also add a new instance attribute `last_move`, that's initialized as `None`\n",
    "\n",
    "Add three methods to ExploreBot:\n",
    "\n",
    "#### Method:  `biased_choice`\n",
    "\n",
    "This method will chose a new move, but be biased to chose the same move as was taken on the previous step. \n",
    "\n",
    "Procedure:\n",
    "- Initialize a variable called `move` as `None`\n",
    "- if `self.last_move` is not equal to `None`\n",
    "    - Using the random probability procedure described above, if `random.random()` is less that `self.move_prob`\n",
    "        - Set `move` to be `self.last_move`\n",
    "- if `move` is still None, set `move` to be a random choice of `self.moves`\n",
    "- return `move`\n",
    "\n",
    "#### Method:  `explore`\n",
    "\n",
    "Explore should be the same as the `wander()` method in `WanderBot`, with two differences:\n",
    "- Inside the `while` loop, `move` should be the return of `self.biased_choice()` (instead of `wander()`)\n",
    "- At the end of the `while` loop (inside the loop), set `self.last_move` to `move`\n",
    "\n",
    "####  Method: `move`\n",
    "- No inputs (other than `self`) or outputs, just sets `self.position` to be the output of calling `explore()`. "
   ]
  },
  {
   "cell_type": "code",
   "execution_count": 89,
   "metadata": {},
   "outputs": [],
   "source": [
    "class ExploreBot(Bot):\n",
    "    \n",
    "    def __init__(self, character = 8982, move_prob = 0.75, last_move = None):\n",
    "        self.move_prob = move_prob\n",
    "        self.last_move = last_move\n",
    "        super().__init__(character)\n",
    "        \n",
    "    def biased_choice(self):\n",
    "        move = None\n",
    "        if self.last_move != None:\n",
    "            if random.random() < self.move_prob:\n",
    "                move = self.last_move\n",
    "        if move == None:\n",
    "            move = random.choice(self.moves)\n",
    "        return(move)\n",
    "            \n",
    "    def explore(self):\n",
    "        has_new_pos = False \n",
    "\n",
    "        while  not has_new_pos:\n",
    "            move = self.biased_choice()\n",
    "            new_pos = add_lists(move, self.position)\n",
    "            has_new_pos = check_bounds(new_pos, self.grid_size)\n",
    "            self.last_move = move\n",
    "        return(new_pos)\n",
    "    \n",
    "    def move(self):\n",
    "        self.position = self.explore()\n",
    "    "
   ]
  },
  {
   "cell_type": "code",
   "execution_count": 90,
   "metadata": {},
   "outputs": [
    {
     "data": {
      "text/plain": [
       "<__main__.ExploreBot at 0x7f90000add30>"
      ]
     },
     "execution_count": 90,
     "metadata": {},
     "output_type": "execute_result"
    }
   ],
   "source": [
    "ebot = ExploreBot()\n",
    "ebot"
   ]
  },
  {
   "cell_type": "code",
   "execution_count": 92,
   "metadata": {},
   "outputs": [],
   "source": [
    "ebot = ExploreBot()\n",
    "ebot.grid_size = 3\n",
    "\n",
    "ebot.move()\n"
   ]
  },
  {
   "cell_type": "code",
   "execution_count": 93,
   "metadata": {},
   "outputs": [
    {
     "name": "stdout",
     "output_type": "stream",
     "text": [
      ". . . . .\n",
      ". . . . .\n",
      "⌖ . . . .\n",
      ". . . . .\n",
      ". . . . .\n"
     ]
    }
   ],
   "source": [
    "# Test out our ExploreBot\n",
    "#   You should see a 'bot' that steps around different positions, often moving in the same direction\n",
    "bot = ExploreBot()\n",
    "play_board(bot)"
   ]
  },
  {
   "cell_type": "code",
   "execution_count": 94,
   "metadata": {},
   "outputs": [
    {
     "name": "stdout",
     "output_type": "stream",
     "text": [
      ". җ . . . . . ѧ . .\n",
      ". . . . . . . . . .\n",
      ". . . . . . . . . .\n",
      ". . . . . . . . . .\n",
      ". . . . . . . . . .\n",
      ". . . . . . . . . .\n",
      ". . . ѧ . . . . . .\n",
      ". . . . . . . . . .\n",
      ". . . . . . . . . .\n",
      ". . . . . . . . . .\n"
     ]
    }
   ],
   "source": [
    "# Test out running a group of WanderBots & ExploreBots\n",
    "bots = [WanderBot(character=1175), WanderBot(character=1175), \n",
    "        ExploreBot(character=1127), ExploreBot(character=1127)]\n",
    "play_board(bots, grid_size=10, n_iter=50)"
   ]
  },
  {
   "cell_type": "markdown",
   "metadata": {},
   "source": [
    "### Q10 - TeleportBot\n",
    "\n",
    "Create a class called `TeleportBot`, that inherits from `WanderBot`.\n",
    "\n",
    "`TeleportBot` is a modified version of `WanderBot`, that will generally wander around randomly, but sometimes teleport to a brand new location.\n",
    "\n",
    "- In the `__init__`, it should call the `__init__` from `super`\n",
    "- Note that to do this, the `__init__` should take a `character` input, with the same default (8982)\n",
    "    - This value will need to be passed into the super's `__init__`\n",
    "- The `__init__` should take an extra input, `tele_prob` with default value of 0.2 \n",
    "    - Add `tele_prob` as an instance attribute\n",
    "\n",
    "Add two methods to `TeleportBot`:\n",
    "\n",
    "####  Method: `teleport`\n",
    "\n",
    "This method will chose a totally random location anywhere on the map, 'teleporting' there.\n",
    "\n",
    "To do so, it needs to return a list of two random numbers that define a location of the map (for the current grid size).\n",
    "\n",
    "Use `random.choice` with `range` and `self.grid_size` to create a list of two randomly chosen numbers within the grid size. \n",
    "\n",
    "Note - this will entail using each of these three things twice - one for each number. \n",
    "\n",
    "Return this list. \n",
    "\n",
    "#### Method: `move`\n",
    "- No inputs (other than `self`) or outputs\n",
    "- Using the random probability procedure from before, use an `if` with `random.random() < self.tele_prob`. \n",
    "    - Inside the `if`, set `self.position` to the ouput of `self.teleport()`\n",
    "- `else`, set `self.position` as the ouput of `self.wander()`\n",
    "    - Note that this bot inherits `wander()` from it's super (`WanderBot`)"
   ]
  },
  {
   "cell_type": "code",
   "execution_count": 95,
   "metadata": {},
   "outputs": [],
   "source": [
    "class TeleportBot(WanderBot):\n",
    "    \n",
    "    def __init__(self, character = 8982, tele_prob = 0.2):\n",
    "        self.tele_prob = tele_prob\n",
    "        super().__init__(character)\n",
    "        \n",
    "    def teleport(self):\n",
    "        ranNum = []\n",
    "        ranNum.append(random.choice(range(self.grid_size)))\n",
    "        ranNum.append(random.choice(range(self.grid_size)))\n",
    "        return ranNum\n",
    "    \n",
    "    def move(self):\n",
    "        if random.random() < self.tele_prob:\n",
    "            self.position = self.teleport()\n",
    "        else:\n",
    "            self.position = self.wander()"
   ]
  },
  {
   "cell_type": "code",
   "execution_count": 96,
   "metadata": {},
   "outputs": [
    {
     "data": {
      "text/plain": [
       "<__main__.TeleportBot at 0x7f90012c4d60>"
      ]
     },
     "execution_count": 96,
     "metadata": {},
     "output_type": "execute_result"
    }
   ],
   "source": [
    "tbot = TeleportBot()\n",
    "tbot"
   ]
  },
  {
   "cell_type": "code",
   "execution_count": 97,
   "metadata": {},
   "outputs": [],
   "source": [
    "tbot = TeleportBot()\n",
    "tbot.grid_size = 3\n",
    "\n",
    "tbot.move()"
   ]
  },
  {
   "cell_type": "code",
   "execution_count": 99,
   "metadata": {},
   "outputs": [
    {
     "name": "stdout",
     "output_type": "stream",
     "text": [
      ". . . . .\n",
      ". . . . .\n",
      ". . . . ⌖\n",
      ". . . . .\n",
      ". . . . .\n"
     ]
    }
   ],
   "source": [
    "# Test out our TeleportBot\n",
    "#   You should see a 'bot' that steps around randomly, sometimes teleporting to a new location\n",
    "bot = TeleportBot()\n",
    "play_board(bot, grid_size=5)"
   ]
  },
  {
   "cell_type": "markdown",
   "metadata": {},
   "source": [
    "### Running it all together"
   ]
  },
  {
   "cell_type": "code",
   "execution_count": 101,
   "metadata": {},
   "outputs": [
    {
     "name": "stdout",
     "output_type": "stream",
     "text": [
      ". . . . . . . . . ѧ . . . . .\n",
      ". . . . . . . . . . . . . . .\n",
      ". . . . . . . . . . . . . . .\n",
      ". . . . . . . . . . . . . . .\n",
      ". ж . . . ѧ . . . . . . . . .\n",
      ". . ж . . . . . . . . . . . .\n",
      ". . ӿ . . . . . . . . . . . .\n",
      ". . . . . . . . . . . . ӿ . .\n",
      ". . . . . . . . . . . . . . .\n",
      ". . . . . . . . . . . . . . .\n",
      ". . . . . . . . . . . ѧ . . .\n",
      "ж . . . . . . . . . . . . . .\n",
      ". . . . . . . . . . . . . . .\n",
      ". . . . . . . . . . . . . . .\n",
      ". . . . . . . . . . . . . . .\n"
     ]
    }
   ],
   "source": [
    "# Define a group of bots\n",
    "bots = [WanderBot(character=1078), WanderBot(character=1078), WanderBot(character=1078),\n",
    "        ExploreBot(character=1127), ExploreBot(character=1127), ExploreBot(character=1127),\n",
    "        TeleportBot(character=1279), TeleportBot(character=1279)]\n",
    "\n",
    "# Play the board with our bot list\n",
    "play_board(bots, grid_size=15, n_iter=50)"
   ]
  },
  {
   "cell_type": "markdown",
   "metadata": {},
   "source": [
    "## Extending Our Agents\n",
    "\n",
    "So far, we have some 'artificial agents' that can explore a world, with different strategies to do so.\n",
    "\n",
    "Note that if you want to explore using these bots some more, you can add a new cell, defining a list of bots (changing some inputs to them, if you want to), and use the `play_board` function to run a 'board' (also changing some inputs to `play_board`, if you want to).\n",
    "\n",
    "From here, we could think about ways we could make these agents interact with each other, and/or respond more directly the environment. \n",
    "\n",
    "More broadly - there is any number of ways we could build in more 'cognitive' behaviour, given this starting point.\n",
    "\n",
    "If you are interested in this topic, extending these kinds of 'artificial agents' (or ones like them) is one of your project options."
   ]
  },
  {
   "cell_type": "markdown",
   "metadata": {},
   "source": [
    "## The End!\n"
   ]
  }
 ],
 "metadata": {
  "kernelspec": {
   "display_name": "pythonML",
   "language": "python",
   "name": "pythonml"
  },
  "language_info": {
   "codemirror_mode": {
    "name": "ipython",
    "version": 3
   },
   "file_extension": ".py",
   "mimetype": "text/x-python",
   "name": "python",
   "nbconvert_exporter": "python",
   "pygments_lexer": "ipython3",
   "version": "3.8.5"
  }
 },
 "nbformat": 4,
 "nbformat_minor": 4
}
