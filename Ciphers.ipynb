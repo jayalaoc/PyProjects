{
 "cells": [
  {
   "cell_type": "markdown",
   "metadata": {},
   "source": [
    "# Ciphers"
   ]
  },
  {
   "cell_type": "markdown",
   "metadata": {},
   "source": [
    "## Part 1: Collection Types\n",
    "\n",
    "This part covers collection types: lists, tuples and dictionaries. "
   ]
  },
  {
   "cell_type": "markdown",
   "metadata": {},
   "source": [
    "### Q1 - Lists (0.25 points)\n",
    "\n",
    "Below are the results of a hypothetical experiment of measuring the height of a class in a land far away:\n",
    "\n",
    "- Mario is 5.6 feet tall\n",
    "- Sarai is 5.4 feet tall\n",
    "- Demi is 6.2 feet tall\n",
    "- Ian is 5.8 feet tall\n",
    "- Dawn is 5.7 feet tall\n",
    "\n",
    "Create a list, called `class_names` and fill it with the names of each person in the class. \n",
    "\n",
    "Create another list, called `class_heights` and fill it with the heights of each person in the class. \n",
    "\n",
    "Remember that the order of lists matters, and so make sure to keep the order of items the same as listed above!"
   ]
  },
  {
   "cell_type": "code",
   "execution_count": 7,
   "metadata": {},
   "outputs": [],
   "source": [
    "#Create the designated lists\n",
    "class_names = ['Mario', 'Sarai', 'Demi', 'Ian', 'Dawn']\n",
    "class_heights = [5.6, 5.4, 6.2, 5.8, 5.7]"
   ]
  },
  {
   "cell_type": "markdown",
   "metadata": {},
   "source": [
    "### Q2 - Tuples \n",
    "Create a tuple, that contains just the names of the people in the experiment. Call this tuple 'names_tuple'. "
   ]
  },
  {
   "cell_type": "code",
   "execution_count": 8,
   "metadata": {},
   "outputs": [],
   "source": [
    "#Create a tuple\n",
    "names_tuple = ('Mario', 'Sarai', 'Demi', 'Ian', 'Dawn')"
   ]
  },
  {
   "cell_type": "markdown",
   "metadata": {},
   "source": [
    "## Dictionaires \n",
    "\n",
    "Next, store the data into a dictionary, where each student's name is the key and their height is the value.\n",
    "\n",
    "Call this dictionary `results_dictionary`. "
   ]
  },
  {
   "cell_type": "code",
   "execution_count": 10,
   "metadata": {},
   "outputs": [
    {
     "name": "stdout",
     "output_type": "stream",
     "text": [
      "5.6\n"
     ]
    }
   ],
   "source": [
    "# store data in a dictionary with height and name taken into consideration \n",
    "\n",
    "results_dictionary = {'Mario': 5.6,\n",
    "                      'Sarai': 5.4,\n",
    "                      'Demi': 6.3,\n",
    "                      'Ian': 5.8,\n",
    "                      'Dawm': 5.7\n",
    "                     }\n",
    "for height in results_dictionary:\n",
    "    if height[0] == 'M':\n",
    "        print(results_dictionary[height])"
   ]
  },
  {
   "cell_type": "markdown",
   "metadata": {},
   "source": [
    "### Q4 - Lists of Lists \n",
    "\n",
    "You can also make lists, that are filled with lists! List-ception. \n",
    "\n",
    "First, create three different lists:\n",
    "- A list called `string_list` that contains three strings (can be any strings)\n",
    "- A list called `number_list` that contains three numbers (can be any numbers - int or float)\n",
    "- A list called `boolean_list` that contains three boolean (can be any booleans)\n",
    "\n",
    "Then, create a new list, called `nested_list` which contains the three lists you created above. "
   ]
  },
  {
   "cell_type": "code",
   "execution_count": 11,
   "metadata": {},
   "outputs": [
    {
     "name": "stdout",
     "output_type": "stream",
     "text": [
      "[['one', 'two', 'three'], [3, 4.5, 10], [True, False, True]]\n"
     ]
    }
   ],
   "source": [
    "#List of Lists \n",
    "string_list = ['one', 'two', 'three']\n",
    "number_list = [3, 4.5, 10]\n",
    "boolean_list = [True, False, True]\n",
    "\n",
    "nested_list = [string_list, number_list, boolean_list]\n",
    "print(nested_list)"
   ]
  },
  {
   "cell_type": "markdown",
   "metadata": {},
   "source": [
    "## Part 2: Working With Collections\n",
    "\n",
    "This part covers working with collections and indexing."
   ]
  },
  {
   "cell_type": "code",
   "execution_count": 12,
   "metadata": {},
   "outputs": [],
   "source": [
    "# For Q5 & Q6, the following lists are provided for you\n",
    "list_1 = [10, 20, 40, 50]\n",
    "list_2 = [13, 15, 17, 19, 22, 25]\n",
    "list_3 = [1, 2, 3, 4, 5, 6, 7, 8, 9, 10, 11]\n",
    "list_4 = [21, 9, 98, 289, 938]"
   ]
  },
  {
   "cell_type": "markdown",
   "metadata": {},
   "source": [
    "### Q5 - Indexing (0.5 points)\n",
    "\n",
    "Do the following using indexing:\n",
    "- Store the first value in `list_1` to `index_1`\n",
    "- Store the last value in `list_2` to `index_2`\n",
    "- Store the first four values of `list_2` to `index_3`\n",
    "- Store the last four values of `list_3` to `index_4`"
   ]
  },
  {
   "cell_type": "code",
   "execution_count": 13,
   "metadata": {},
   "outputs": [
    {
     "name": "stdout",
     "output_type": "stream",
     "text": [
      "[13, 15, 17, 19]\n",
      "[8, 9, 10, 11]\n"
     ]
    }
   ],
   "source": [
    "# Storing values \n",
    "\n",
    "index_1 = list_1[0]\n",
    "index_2 = list_2[5]\n",
    "index_3 = list_2[0:4]\n",
    "index_4 = list_3[7:]\n",
    "print(index_3)\n",
    "print(index_4)"
   ]
  },
  {
   "cell_type": "markdown",
   "metadata": {},
   "source": [
    "### Q6 - Comparisons using Indexing (0.5 points)\n",
    "\n",
    "Do the following comparisons using indexing:\n",
    "- Check if the first value of `list_1` is one of the last three values in `list_3` (Hint: remember operator 'in')\n",
    "    - Store the result in `comp_result_1`\n",
    "    \n",
    "    \n",
    "- Check if the third value of `list_4` is greater than the fourth value in `list_4`\n",
    "    - Store the result in `comp_result_2`\n",
    "    \n",
    "    \n",
    "- Check if the last value of `list_4` is less than the second value in `list_4`\n",
    "    - Store the result in `comp_result_3`\n",
    "    \n",
    "    \n",
    "- Check if the second value of `list_2` multiplied by the seventh value of `list_3` is greater than the second to last value in `list_4`\n",
    "    - Store the result in `comp_result_4`\n",
    "    \n",
    "Keep in mind that you are storing the result of a comparison to a variable, so resulting variables should all be booleans. "
   ]
  },
  {
   "cell_type": "code",
   "execution_count": 14,
   "metadata": {},
   "outputs": [
    {
     "name": "stdout",
     "output_type": "stream",
     "text": [
      "True\n",
      "False\n",
      "False\n",
      "False\n"
     ]
    }
   ],
   "source": [
    "#Boolean check using if statements \n",
    "\n",
    "if list_1[0] in list_3[8:]:\n",
    "    comp_result_1 = True \n",
    "else:\n",
    "    comp_result_1 = False \n",
    "\n",
    "if list_4[2] > list_4[3]:\n",
    "    comp_result_2 = True\n",
    "else:\n",
    "    comp_result_2= False\n",
    "\n",
    "if list_4[4] < list_4[1]:\n",
    "    comp_result_3 = True \n",
    "else:\n",
    "    comp_result_3 = False\n",
    "\n",
    "if list_2[1] * list_3[6] > list_4[3]:\n",
    "    comp_result_4 = True \n",
    "else:\n",
    "    comp_result_4 = False \n",
    "    \n",
    "print(comp_result_1)\n",
    "print(comp_result_2)\n",
    "print(comp_result_3)\n",
    "print(comp_result_4)"
   ]
  },
  {
   "cell_type": "markdown",
   "metadata": {},
   "source": [
    "## Part 3: Loops\n",
    "\n",
    "This part covers using loops. "
   ]
  },
  {
   "cell_type": "markdown",
   "metadata": {},
   "source": [
    "### Q7 - Loop Questions \n",
    "\n",
    "For each of the scenarios below, indicate whether it is a procedure best done with a for loop, a while loop, or if the task is not something best done with a loop. \n",
    "\n",
    "For each question, answer by setting a string to requested variable name, that stores one of 'for', 'while' or 'not_a_loop' to indicate your answer.\n",
    "\n",
    "- a) You want to apply a transform to every piece of data in a list. \n",
    "    - Answer in a variable called `loop_q_a`\n",
    "- b) You want to continuously update the position of a character displayed on a screen, as long as the status of the character is 'alive'.\n",
    "    - Answer in a variable called `loop_q_b`\n",
    "- c) You want to check three different value comparisons are all true together, each checking a different variable.\n",
    "    - Answer in a variable called `loop_q_c`\n",
    "- d) You want your computer to connect to an external network. As long as your connection status is False, you want to try and re-connect. \n",
    "    - Answer in a variable called `loop_q_d`"
   ]
  },
  {
   "cell_type": "code",
   "execution_count": 17,
   "metadata": {},
   "outputs": [],
   "source": [
    "#Scenarios \n",
    "loop_q_a = 'for'\n",
    "\n",
    "loop_q_b = 'while'\n",
    "\n",
    "loop_q_c = 'not_a_loop'\n",
    "\n",
    "loop_q_d = 'while'"
   ]
  },
  {
   "cell_type": "markdown",
   "metadata": {},
   "source": [
    "### Q8 - For Loop \n",
    "\n",
    "What is the sum of all even numbers between 19 and 35?\n",
    "\n",
    "Answer this question using a for loop, and using `range`. \n",
    "\n",
    "Save the result out to a variable called `sum_result`. "
   ]
  },
  {
   "cell_type": "code",
   "execution_count": 18,
   "metadata": {},
   "outputs": [
    {
     "name": "stdout",
     "output_type": "stream",
     "text": [
      "216\n"
     ]
    }
   ],
   "source": [
    "# For loop\n",
    "sum_result = 0\n",
    "\n",
    "for even_numbers in range(19,36):\n",
    "    if even_numbers%2 == 0:\n",
    "        sum_result += even_numbers\n",
    "\n",
    "print(sum_result)"
   ]
  },
  {
   "cell_type": "markdown",
   "metadata": {},
   "source": [
    "### Q9 - While Loop \n",
    "\n",
    "Write a while loop that adds the first 100 numbers (from 1 to 100) together.\n",
    "\n",
    "To do so, use a while loop that continues while the condition of `cur_num` being less than or equal to `stop_num` is `True`. \n",
    "\n",
    "Inside the loop, it should add `cur_num` to the running `total` variable, and also add 1 to `cur_num`. \n",
    "\n",
    "Make sure to check at the end that the value of `total` reflects the total summation. "
   ]
  },
  {
   "cell_type": "code",
   "execution_count": 20,
   "metadata": {},
   "outputs": [
    {
     "name": "stdout",
     "output_type": "stream",
     "text": [
      "101\n",
      "5050\n"
     ]
    }
   ],
   "source": [
    "total = 0\n",
    "cur_num = 1\n",
    "stop_num = 100\n",
    "\n",
    "#while loop \n",
    "while cur_num <= stop_num:\n",
    "    total += cur_num\n",
    "    cur_num += 1\n",
    "\n",
    "print(cur_num)\n",
    "print (total)"
   ]
  },
  {
   "cell_type": "markdown",
   "metadata": {},
   "source": [
    "### Example: Append\n",
    "\n",
    "In the following examples we will need to use an operation to add something to a list. Some examples for doing so are provided. \n",
    "\n",
    "Given a list, `my_list` to add an item `my_item` to the end of the list, you can do `my_list.append(my_item)`. "
   ]
  },
  {
   "cell_type": "code",
   "execution_count": 21,
   "metadata": {},
   "outputs": [
    {
     "name": "stdout",
     "output_type": "stream",
     "text": [
      "Before Append:  ['a', 12, None]\n",
      "After  Append:  ['a', 12, None, True]\n"
     ]
    }
   ],
   "source": [
    "# Example of appending to a list\n",
    "my_list = ['a', 12, None]\n",
    "\n",
    "print('Before Append: ', my_list)\n",
    "\n",
    "my_list.append(True)\n",
    "\n",
    "print('After  Append: ', my_list)"
   ]
  },
  {
   "cell_type": "code",
   "execution_count": 22,
   "metadata": {},
   "outputs": [
    {
     "name": "stdout",
     "output_type": "stream",
     "text": [
      "[1, 2, 3, 4]\n"
     ]
    }
   ],
   "source": [
    "# Example of using append with loops\n",
    "list_of_values = [0, 1, 2, 3]\n",
    "\n",
    "# Initialize an empty list that will be used to store outputs\n",
    "outputs = []\n",
    "\n",
    "# Loop through all items in `list_of_items`\n",
    "for item in list_of_values:\n",
    "    \n",
    "    # Add incremented item to the list of outputs\n",
    "    outputs.append(item + 1)\n",
    "\n",
    "# Check what outputs ends up as\n",
    "print(outputs)"
   ]
  },
  {
   "cell_type": "markdown",
   "metadata": {},
   "source": [
    "### Q10 - Loops: Multiplication (0.5 points)\n",
    "\n",
    "Using the provided variable `num_list`, write a for loop to loop across each value, multiplying it by -1. \n",
    "\n",
    "Store the result for each value, in a list called `eval_1`, by defining `eval_1` before the loop, and using `append` inside the loop. "
   ]
  },
  {
   "cell_type": "code",
   "execution_count": 23,
   "metadata": {},
   "outputs": [],
   "source": [
    "# This creates a list of all numbers from 1-12, inclusive\n",
    "num_list = list(range(1, 13))"
   ]
  },
  {
   "cell_type": "code",
   "execution_count": 24,
   "metadata": {},
   "outputs": [
    {
     "data": {
      "text/plain": [
       "[-1, -2, -3, -4, -5, -6, -7, -8, -9, -10, -11, -12]"
      ]
     },
     "execution_count": 24,
     "metadata": {},
     "output_type": "execute_result"
    }
   ],
   "source": [
    "# using append to multiply a list with an integer \n",
    "eval_1 = []\n",
    "\n",
    "for num in num_list:\n",
    "    eval_1.append(num*-1)\n",
    "    \n",
    "eval_1"
   ]
  },
  {
   "cell_type": "markdown",
   "metadata": {},
   "source": [
    "## Part 4: Combining Loops & Conditionals\n",
    "\n",
    "This part covers integrating collections and loops with conditional and operators. "
   ]
  },
  {
   "cell_type": "code",
   "execution_count": 25,
   "metadata": {},
   "outputs": [],
   "source": [
    "# Using this list\n",
    "data_list = [-1, 20, -100, -40, 33, 97, -101, 45, -79, 96]"
   ]
  },
  {
   "cell_type": "markdown",
   "metadata": {},
   "source": [
    "### Q11 - Loops: Division \n",
    "\n",
    "Write some code that uses a loop to find all the values from `data_list` that are perfectly divisible by 3. \n",
    "\n",
    "Use a for loop with a conditional to do this, and save any values from `data_list` that meet this condition into a new list called `div_3`. "
   ]
  },
  {
   "cell_type": "code",
   "execution_count": 27,
   "metadata": {},
   "outputs": [
    {
     "data": {
      "text/plain": [
       "[33, 45, 96]"
      ]
     },
     "execution_count": 27,
     "metadata": {},
     "output_type": "execute_result"
    }
   ],
   "source": [
    "# Use a loop to find values in the list that are perfectly divisible by 3 \n",
    "div_3 = []\n",
    "\n",
    "for num in data_list:\n",
    "    if num%3 == 0:\n",
    "        div_3.append(num)\n",
    "         \n",
    "\n",
    "div_3"
   ]
  },
  {
   "cell_type": "markdown",
   "metadata": {},
   "source": [
    "### Q12 - Loops: Odd or Even\n",
    "\n",
    "Write a for loop that is going to check whether the values in `data_list` are even or odd. \n",
    "\n",
    "Use a for loop with a conditional to do this. \n",
    "\n",
    "For each value, it should add `True` to a new list `is_even` if the value is even, and `False` to `is_even` if the value is odd."
   ]
  },
  {
   "cell_type": "code",
   "execution_count": 29,
   "metadata": {},
   "outputs": [
    {
     "data": {
      "text/plain": [
       "[False, True, True, True, False, False, False, False, False, True]"
      ]
     },
     "execution_count": 29,
     "metadata": {},
     "output_type": "execute_result"
    }
   ],
   "source": [
    "#Check list for even and false values\n",
    "is_even = []\n",
    "\n",
    "for num in data_list:\n",
    "    if num%2 == 0:\n",
    "        is_even.append(True)\n",
    "    else:\n",
    "        is_even.append(False)\n",
    "\n",
    "is_even"
   ]
  },
  {
   "cell_type": "markdown",
   "metadata": {},
   "source": [
    "### Q13 - Loops: Multiple Conditions\n",
    "\n",
    "Write a for loop that will check each value in `data_list` to see if they are even or odd an\n",
    "d whether they are positive or negative.\n",
    "- If they are both positive and even, encode this as the number 1\n",
    "- If they are both negative and odd, encode this as the number -1\n",
    "- Otherwise, encode this as the number 0\n",
    "\n",
    "- Store the result for each value into a list called `num_type`"
   ]
  },
  {
   "cell_type": "code",
   "execution_count": 30,
   "metadata": {},
   "outputs": [
    {
     "data": {
      "text/plain": [
       "[-1, 1, 0, 0, 0, 0, -1, 0, -1, 1]"
      ]
     },
     "execution_count": 30,
     "metadata": {},
     "output_type": "execute_result"
    }
   ],
   "source": [
    "num_type = []\n",
    "\n",
    "for num in data_list: \n",
    "    if num%2 == 0 and num > 0:\n",
    "        num_type.append(1)\n",
    "    elif num%2 == 1 and num < 0:\n",
    "        num_type.append(-1)\n",
    "    else: \n",
    "        num_type.append(0)\n",
    "\n",
    "num_type"
   ]
  },
  {
   "cell_type": "markdown",
   "metadata": {},
   "source": [
    "### Example: Looping through Dictionaries"
   ]
  },
  {
   "cell_type": "code",
   "execution_count": 31,
   "metadata": {},
   "outputs": [
    {
     "name": "stdout",
     "output_type": "stream",
     "text": [
      "New Loop Iteration\n",
      "\tKey is:\t key1\n",
      "\tVal is:\t value1\n",
      "New Loop Iteration\n",
      "\tKey is:\t key2\n",
      "\tVal is:\t value2\n"
     ]
    }
   ],
   "source": [
    "# This example of looping through dictionaries provided\n",
    "dictionary = {\n",
    "    'key1' : 'value1', \n",
    "    'key2' : 'value2'\n",
    "}\n",
    "\n",
    "for item in dictionary:\n",
    "    \n",
    "    # When you loop through a dictionary like this, `item` is the key \n",
    "    key = item\n",
    "    \n",
    "    # Using the key, you can access the associated value of the dictionary from within the loop\n",
    "    value = dictionary[item]\n",
    "    \n",
    "    # Print out data for each loop iteration\n",
    "    print('New Loop Iteration')\n",
    "    print('\\tKey is:\\t', item)\n",
    "    print('\\tVal is:\\t', value)"
   ]
  },
  {
   "cell_type": "markdown",
   "metadata": {},
   "source": [
    "### Q14 - Loops: Dictionaries\n",
    "\n",
    "Using the `subjects` dictionary, write a for loop that loops across the dictionary and collects all subject numbers (ex. 'S2') where the dictionary value is False. \n",
    "\n",
    "Imagine, for example, the dictionary indicates whether processing is complete, and we wanted to get a list of the subjects that need more analyses. \n",
    "\n",
    "To answer this question, use a for loop across the `subjects` dictionary. You then need to get the associated value in each iteration, and check if it is `True`. If it is `True`, you can use `continue` to skip ahead to the next iteration. Otherwise, append the subject number (ex 'S2') to a list called `not_finished`. "
   ]
  },
  {
   "cell_type": "code",
   "execution_count": 32,
   "metadata": {},
   "outputs": [],
   "source": [
    "# Using this dictionary\n",
    "\n",
    "subjects = {\n",
    "    'S1' : True,\n",
    "    'S2' : False,\n",
    "    'S3' : True,\n",
    "    'S4' : False,\n",
    "}"
   ]
  },
  {
   "cell_type": "code",
   "execution_count": 33,
   "metadata": {},
   "outputs": [
    {
     "name": "stdout",
     "output_type": "stream",
     "text": [
      "New Loop Iteration:\n",
      "\tSubject is:\t S2\n",
      "\tBool is:\t False\n",
      "New Loop Iteration:\n",
      "\tSubject is:\t S4\n",
      "\tBool is:\t False\n"
     ]
    }
   ],
   "source": [
    "not_finished = []\n",
    "\n",
    "for item in subjects:\n",
    "    key = item\n",
    "    if subjects[item] == True:\n",
    "        continue\n",
    "    else:\n",
    "        not_finished.append(item)\n",
    "         \n",
    "    \n",
    "    print('New Loop Iteration:')\n",
    "    print('\\tSubject is:\\t', item)\n",
    "    print('\\tBool is:\\t', subjects[item])"
   ]
  },
  {
   "cell_type": "markdown",
   "metadata": {},
   "source": [
    "## Part 5:  Ciphers\n",
    "\n",
    "This part is an application of all the tools we have covered so far, to the problem of creating and using ciphers. \n",
    "\n",
    "A cipher is procedure for encoding and decoding secret messages (or encrypted data). \n",
    "\n",
    "To work on this application, we are going to need to use loops and collections. \n",
    "\n",
    "It also uses concepts and ideas from encoding and decoding - and in particular the operators `ord` and `chr`. "
   ]
  },
  {
   "cell_type": "code",
   "execution_count": 34,
   "metadata": {},
   "outputs": [],
   "source": [
    "# Setup - run this cell before doing the next part of the assignment\n",
    "import os\n",
    "if not os.path.exists('A2Code'):\n",
    "    os.mkdir('A2Code')"
   ]
  },
  {
   "cell_type": "code",
   "execution_count": 35,
   "metadata": {},
   "outputs": [
    {
     "name": "stdout",
     "output_type": "stream",
     "text": [
      "Original Message:\t Hello from Tom.\n",
      "Encoded Message:\t ĐĭĴĴķèĮĺķĵèĜķĵö\n",
      "Decoded Message:\t Hello from Tom.\n"
     ]
    }
   ],
   "source": [
    "# Example / outline of writing a cipher\n",
    "#   The following shows a layout of writing a cipher.\n",
    "#   You will be writing code to actually do the encoding / decoding.\n",
    "\n",
    "# Create a message\n",
    "original_message = 'Hello from Tom.'\n",
    "print('Original Message:\\t', original_message)\n",
    "\n",
    "# First, Apply Encoding Code, to convert to an encoded message\n",
    "encoded = 'ĐĭĴĴķèĮĺķĵèĜķĵö'\n",
    "print('Encoded Message:\\t', encoded)\n",
    "\n",
    "# Then, Apply Decoding Code, to decode into an interpretable message\n",
    "decoded = 'Hello from Tom.'\n",
    "print('Decoded Message:\\t', decoded)"
   ]
  },
  {
   "cell_type": "markdown",
   "metadata": {},
   "source": [
    "### Q15 - Creating an Encoder \n",
    "\n",
    "Write a code block to encode strings into a secret message.\n",
    "\n",
    "Your code will presume a number, stored in `key`, and a message to encode, as a string variable called `message`. Don't define these variables in your code - they will be defined when you run the tests.\n",
    "\n",
    "To do so:\n",
    "- Initialize a variable called `encoded` as an empty string\n",
    "- Use a for loop to loop across all characters of a string variable `message`\n",
    "    - Inside the loop, convert the character to another character:\n",
    "        - Get the unicode code point for the character (using `ord`)\n",
    "        - Add the value of `key` to that code point (which should be an int)\n",
    "        - Convert this new int back to a character (using `chr`).\n",
    "    - Also inside the loop, add this converted char to the string `encoded`"
   ]
  },
  {
   "cell_type": "code",
   "execution_count": 37,
   "metadata": {},
   "outputs": [
    {
     "name": "stdout",
     "output_type": "stream",
     "text": [
      "Writing A2Code/encoder.py\n"
     ]
    }
   ],
   "source": [
    "%%writefile A2Code/encoder.py\n",
    "\n",
    "encoded = ''\n",
    "\n",
    "for num in message: \n",
    "    uni_code = ord(num)\n",
    "    new = uni_code + key\n",
    "    new_char = chr(new)\n",
    "    encoded += new_char\n",
    "    "
   ]
  },
  {
   "cell_type": "code",
   "execution_count": 38,
   "metadata": {},
   "outputs": [
    {
     "name": "stdout",
     "output_type": "stream",
     "text": [
      "Original Message: \t hello\n",
      "Encoded Message: \t İĭĴĴķ\n"
     ]
    }
   ],
   "source": [
    "key = 200\n",
    "message = 'hello'\n",
    "\n",
    "%run -i ./A2Code/encoder.py  \n",
    "\n",
    "assert isinstance(encoded, str)\n",
    "assert encoded == 'İĭĴĴķ'\n",
    "\n",
    "print('Original Message: \\t', message)\n",
    "print('Encoded Message: \\t', encoded)"
   ]
  },
  {
   "cell_type": "markdown",
   "metadata": {},
   "source": [
    "### Q16 - Decoder \n",
    "\n",
    "Write a code block to decode strings from secret encodings back to readable messages.\n",
    "\n",
    "To do so:\n",
    "- Initialize a variable called `decoded` as an empty string\n",
    "- Use a for loop to loop across all characters of a presumed string variable called `encoded`\n",
    "    - Inside the loop, convert the character to another character:\n",
    "        - Get the unicode code point for the character (using `ord`)\n",
    "        - Subtract the value of `key` to that code point (which should be an int)\n",
    "            - This undoes the secret encoding of the character, getting back to the original value\n",
    "        - Convert this new int back to a character (using `chr`).\n",
    "    - Also inside the loop, add this converted char to the string `decoded`\n",
    "    \n",
    "Note that the code to answer this question should look very similar to how you answered the encoding question. \n",
    "\n",
    "In fact, you can even copy over the encoding code, and make some small changes to make it function as a decoder. "
   ]
  },
  {
   "cell_type": "code",
   "execution_count": 39,
   "metadata": {},
   "outputs": [
    {
     "name": "stdout",
     "output_type": "stream",
     "text": [
      "Writing A2Code/decoder.py\n"
     ]
    }
   ],
   "source": [
    "%%writefile A2Code/decoder.py\n",
    "\n",
    "# YOUR CODE HERE\n",
    "decoded = ''\n",
    "\n",
    "for num2 in encoded:\n",
    "    second_unicode = ord(num2)\n",
    "    new2 = second_unicode - key\n",
    "    new_char2 = chr(new2) \n",
    "    decoded += new_char2"
   ]
  },
  {
   "cell_type": "code",
   "execution_count": 41,
   "metadata": {},
   "outputs": [
    {
     "name": "stdout",
     "output_type": "stream",
     "text": [
      "Encoded Message: \t İĭĴĴķ\n",
      "Decoded Message: \t hello\n"
     ]
    }
   ],
   "source": [
    "key = 200\n",
    "encoded = 'İĭĴĴķ'\n",
    "\n",
    "%run -i ./A2Code/decoder.py \n",
    "\n",
    "print('Encoded Message: \\t', encoded)\n",
    "print('Decoded Message: \\t', decoded)"
   ]
  },
  {
   "cell_type": "markdown",
   "metadata": {},
   "source": [
    "### Using the encoder and decoder together\n",
    "\n",
    "The following are a couple examples of using the encoder and decoder together. "
   ]
  },
  {
   "cell_type": "code",
   "execution_count": 42,
   "metadata": {},
   "outputs": [
    {
     "name": "stdout",
     "output_type": "stream",
     "text": [
      "\n",
      "Original Message: \t This is a secret message\n",
      "\n",
      "Encoded Message: \t ɈɜɝɧȔɝɧȔɕȔɧəɗɦəɨȔɡəɧɧɕɛə\n",
      "\n",
      "Decoded Message: \t This is a secret message \n",
      "\n"
     ]
    }
   ],
   "source": [
    "# Using the encoder\n",
    "key = 500\n",
    "message = 'This is a secret message'\n",
    "\n",
    "%run -i ./A2Code/encoder.py  \n",
    "%run -i ./A2Code/decoder.py\n",
    "\n",
    "print('\\nOriginal Message: \\t', message)\n",
    "print('\\nEncoded Message: \\t', encoded)\n",
    "print('\\nDecoded Message: \\t', decoded, '\\n')\n",
    "\n",
    "assert message == decoded"
   ]
  },
  {
   "cell_type": "code",
   "execution_count": 43,
   "metadata": {},
   "outputs": [
    {
     "name": "stdout",
     "output_type": "stream",
     "text": [
      "\n",
      "Original Message: \t Python is pretty cool, eh?\n",
      "\n",
      "Encoded Message: \t иѡќѐїіЈёћЈјњэќќѡЈыїїєДЈэѐЧ\n",
      "\n",
      "Decoded Message: \t Python is pretty cool, eh? \n",
      "\n"
     ]
    }
   ],
   "source": [
    "# Using the encoder\n",
    "key = 1000\n",
    "message = 'Python is pretty cool, eh?'\n",
    "\n",
    "%run -i ./A2Code/encoder.py  \n",
    "%run -i ./A2Code/decoder.py\n",
    "\n",
    "print('\\nOriginal Message: \\t', message)\n",
    "print('\\nEncoded Message: \\t', encoded)\n",
    "print('\\nDecoded Message: \\t', decoded, '\\n')"
   ]
  },
  {
   "cell_type": "markdown",
   "metadata": {},
   "source": [
    "### Using a Custom Encoder\n",
    "\n",
    "The encoder & decoding we created above is built on conversions based on manipulating unicode code points.\n",
    "\n",
    "If a potential attacker wanted to decode our messages, and happened to know we were using this approach, there are some relatively simple ways that they could try to figure out our encoding key, and then, if successful decode our messages. \n",
    "\n",
    "Thought experiment: can you think of ways to decode messages that use this encoding?\n",
    "\n",
    "To thwart this potential attacker, let's now explore using a custom encoding. Instead of manipulating code points, we are going to use a custom mapping to switch out characters to encode our messages. "
   ]
  },
  {
   "cell_type": "code",
   "execution_count": 44,
   "metadata": {},
   "outputs": [],
   "source": [
    "# Custom encoding dictionary provided - make sure you run this cell\n",
    "#   In this encoding, each key will get switched out for the associated value\n",
    "#     So, for example, whenever we see an 'a', we want to switch it out for an 'r'. \n",
    "custom_encodings = {\n",
    "    'a' : 'r', \n",
    "    'e' : 'p', \n",
    "    'i' : 'm',\n",
    "    'o' : 'n',\n",
    "    'u' : 's'\n",
    "}"
   ]
  },
  {
   "cell_type": "markdown",
   "metadata": {},
   "source": [
    "### Q17 - Custom Encoder (0.5 points)\n",
    "\n",
    "Write a code block to encode strings from original messages, using our custom encoding.\n",
    "\n",
    "To do so:\n",
    "- Initialize a variable called `custom_encoded` as an empty string\n",
    "- Use a for loop to loop across all characters of a presumed string variable called `custom_message`\n",
    "    - Inside the loop, check if the current character is in the `custom_encodings` dictionary\n",
    "        - If it is, use the current char to get the value from `custom_encodings`, and concatenate it to `custom_encoded`\n",
    "            - The line inside the if should look something like `out = out + dictionary[char]`\n",
    "            \n",
    "        - Otherwise, concatenate the current character to `custom_encoded`"
   ]
  },
  {
   "cell_type": "code",
   "execution_count": 45,
   "metadata": {},
   "outputs": [
    {
     "name": "stdout",
     "output_type": "stream",
     "text": [
      "Writing A2Code/custom_encoder.py\n"
     ]
    }
   ],
   "source": [
    "%%writefile A2Code/custom_encoder.py\n",
    "\n",
    "custom_encoded = ''\n",
    "\n",
    "for num3 in custom_message:\n",
    "    if num3 in custom_encodings:\n",
    "        custom_encoded += custom_encodings[num3]\n",
    "    else:\n",
    "        custom_encoded += num3\n",
    "        \n",
    "        "
   ]
  },
  {
   "cell_type": "code",
   "execution_count": 46,
   "metadata": {},
   "outputs": [
    {
     "name": "stdout",
     "output_type": "stream",
     "text": [
      "\n",
      "Original Message: \t vowels aint great\n",
      "\n",
      "Encoded Message: \t vnwpls rmnt grprt \n",
      "\n"
     ]
    }
   ],
   "source": [
    "custom_message = 'vowels aint great'\n",
    "\n",
    "%run -i ./A2Code/custom_encoder.py\n",
    "\n",
    "print('\\nOriginal Message: \\t', custom_message)\n",
    "print('\\nEncoded Message: \\t', custom_encoded, '\\n')"
   ]
  },
  {
   "cell_type": "markdown",
   "metadata": {},
   "source": [
    "### Using Variable Keys\n",
    "\n",
    "Part of the reason the unicode code point conversation can be easy to decode is that character always get encoded to the same output. So, if you know a pattern of the language, for example that 'e' is usually the most common letter, you can use this to make an educated guess that the most common character in the encoded message is probable 'e', and from there figure out the encoding key. \n",
    "\n",
    "One way around this is to use a procedure to use different transforms for each character, or, basically, use a different key for each time you encode a character. This breaks the 1-to-1 mapping between original and encoded characters, and makes the encoding harder to crack. As long as the decoder knows a pattern of how update keys, then it is still decodable, by knowing the first key, and the pattern to get to the next keys. "
   ]
  },
  {
   "cell_type": "markdown",
   "metadata": {},
   "source": [
    "### Q18 - Encodings with variable keys (0.5 points)\n",
    "\n",
    "Here we will write an encoder that using a variable keys, whereby each time a key is applied, the key itself is also updated, by adding a number. \n",
    "\n",
    "This code will presume two numbers, `start_key` and `key_increment`. \n",
    "\n",
    "This code will look very similar to the code for the encoder in Q15. Copy that code in and you are going to `key = start_key` before the loop. The loop will contain the same code to encode each character, and you need to add a line within the loop, after the encoding, that update the `key` variable to increment it by the value stored in `key_increment`. "
   ]
  },
  {
   "cell_type": "code",
   "execution_count": 48,
   "metadata": {},
   "outputs": [
    {
     "name": "stdout",
     "output_type": "stream",
     "text": [
      "Overwriting A2Code/variable_encoder.py\n"
     ]
    }
   ],
   "source": [
    "%%writefile A2Code/variable_encoder.py\n",
    "\n",
    "encoded = ''\n",
    "key = start_key\n",
    "\n",
    "for num in message: \n",
    "    uni_code = ord(num)\n",
    "    new = uni_code + key\n",
    "    new_char = chr(new)\n",
    "    encoded += new_char\n",
    "    key += key_increment "
   ]
  },
  {
   "cell_type": "code",
   "execution_count": 50,
   "metadata": {},
   "outputs": [
    {
     "name": "stdout",
     "output_type": "stream",
     "text": [
      "\n",
      "Original Message: \t By the way, what we're doing here basically is the same as encryption\n",
      "\n",
      "Encoded Message: \t ØĒ¼ēĊĊÈĢďĪà×ıĥġķæŀıöńĺøĿōŊŒŎĊŕŕťśęŞŠŵŮūŬźŽƍķƃƐŀƗƎƎŌƢƓƢƝśƟƴŤƬƸưǂǌǆǍǅǎǐ \n",
      "\n"
     ]
    }
   ],
   "source": [
    "message = \"By the way, what we're doing here basically is the same as encryption\"\n",
    "\n",
    "start_key = 150\n",
    "key_increment = 3\n",
    "\n",
    "%run -i ./A2Code/variable_encoder.py\n",
    "\n",
    "print('\\nOriginal Message: \\t', message)\n",
    "print('\\nEncoded Message: \\t', encoded, '\\n')"
   ]
  },
  {
   "cell_type": "markdown",
   "metadata": {},
   "source": [
    "### Breaking a Variable Encoder\n",
    "\n",
    "#### Extra (optional) Information for the Curious - on Cryptography & Alan Turing\n",
    "\n",
    "This kind of 'variable encoder' in which the encoding transform updates every time it is applied is much harder for an outside attacker to break (if they do not know the initial key, and the way it changes every application). \n",
    "\n",
    "This is, broadly, the kind of encryption which was used by German forces in World War II to encode messages - the ENIGMA code. \n",
    "\n",
    "This approach is, however, still breakable - it just takes a lot of clever analysis and number crunching. During World War II, Alan Turing, having already at that point done fundamental work developing the very concept of a digital computer, developed machines and algorithms to try to break the German Enigma code, eventually managing to decode it with his team at Bletchley Park.\n",
    "\n",
    "Cracking this code was a huge development in the war - it is estimated this code breaking work, which allowed the Allies to decode messages and anticipate German actions, may have shortened the war by up 2 to 3 years, saving millions of lives in the process.\n",
    "\n",
    "By the early 1950s, though his codebreaking work was still strictly confidential and he was largely unknown by the general public, Alan Turing had gone on to make other huge contributions to the fields of computation and artificial intelligence, amongst others, that would go on to have massive impact on the modern world. \n",
    "\n",
    "The British government, who years before had employed him as a codebreaker, then prosecuted Alan Turing for homosexual activity, and forced him to undergo chemical castration. Alan Turing died of suicide in 1954, at the age of 41. \n",
    "\n",
    "For more information on Alan Turing, check out the article linked below, and/or look into the movie `The Imitation Game`, a dramatization of his work on code breaking during the war. \n",
    "\n",
    "Short Article on Alan Turing: https://www.bbc.com/news/technology-18419691"
   ]
  },
  {
   "cell_type": "markdown",
   "metadata": {},
   "source": [
    "### Variable Decoder\n",
    "\n",
    "The code below is provided for you, that performs decoding of a variable decoder. \n",
    "\n",
    "To do so, it needs to know the `start_key` and `key_increment` that were used."
   ]
  },
  {
   "cell_type": "code",
   "execution_count": 51,
   "metadata": {},
   "outputs": [
    {
     "name": "stdout",
     "output_type": "stream",
     "text": [
      "Writing A2Code/variable_decoder.py\n"
     ]
    }
   ],
   "source": [
    "%%writefile A2Code/variable_decoder.py\n",
    "\n",
    "# Knowing the start key, and the length of the message, we can reconstruct the current key\n",
    "key = start_key + (len(encoded) * key_increment)\n",
    "\n",
    "decoded = ''\n",
    "\n",
    "# Note that this decodes the message backwards, stepping back along key values\n",
    "for char in encoded[::-1]:\n",
    "    \n",
    "    # Step the key back one step, and apply to current character\n",
    "    key = key - key_increment\n",
    "    decoded = decoded + chr(ord(char) - key)\n",
    "    \n",
    "# Having decoded backwards, flip the message back around\n",
    "decoded = decoded[::-1]"
   ]
  },
  {
   "cell_type": "markdown",
   "metadata": {},
   "source": [
    "### Decoding a provided message\n",
    "\n",
    "The cell below has an encoded message, using variable encoding, and the `start_key` and `key_increment` needed to decode. \n",
    "\n",
    "Run the following cell to execute the decoding code from above, and decode the message. "
   ]
  },
  {
   "cell_type": "code",
   "execution_count": 52,
   "metadata": {},
   "outputs": [
    {
     "name": "stdout",
     "output_type": "stream",
     "text": [
      "Hey y'all - I hope you are enjoying the assignment!\n",
      "\n",
      "Either way you are done now, so congrats on that!\n",
      "\n",
      "By the way, if you happen to really like this cipher stuff - following up on this stuff will be a project option.\n",
      "\n",
      "From, Tom\n"
     ]
    }
   ],
   "source": [
    "# Do decoding on message above\n",
    "encoded = \"\"\"Ãâø¡ü¬èõ÷­¼±ÜµÿĈċĂ¿ĚĒĚÇĊĝĒÏĖġğĦĲĤīĦáķĭĬéĬŀłĺĺŃńľŉőĀëíĪŐŝœŒšđŪŖŰęŴŬŴġŤŷŬĩůżŽŶĳƃƆƐŇĽƒƐŃƈƖ\\\n",
    "ƗƒƟƐƥƦŕƦƧśƱƧƢƷŦőœƍǆůǅƻƺŷǐƼǖƋƁǌǋƇǢǚǢƏǙǔǥǧǞǩƝǳǰƣǷǬǪǷǹȈƱǿǾȂǾƻȑȇȊȖǅȊȒțȕȔȣǓȨȫȮȡȣǟǮǣȫȶȵȷȼɆȺɁȼǷɎɋǽɎɏȃəɏɒ\\\n",
    "ɞȍɢɥɨɛɝșɲɦɫɭȣɧɬȩɬȭɿʃʂɿɼɼʏȽʎʑʗʎʖʗəȷȹɷʥʤʤɥɛʑʮʮ\"\"\"\n",
    "\n",
    "start_key = 123\n",
    "key_increment = 2\n",
    "\n",
    "%run -i ./A2Code/variable_decoder.py\n",
    "\n",
    "print(decoded)"
   ]
  },
  {
   "cell_type": "markdown",
   "metadata": {},
   "source": [
    "## The End!\n"
   ]
  }
 ],
 "metadata": {
  "kernelspec": {
   "display_name": "Python 3",
   "language": "python",
   "name": "python3"
  },
  "language_info": {
   "codemirror_mode": {
    "name": "ipython",
    "version": 3
   },
   "file_extension": ".py",
   "mimetype": "text/x-python",
   "name": "python",
   "nbconvert_exporter": "python",
   "pygments_lexer": "ipython3",
   "version": "3.8.5"
  }
 },
 "nbformat": 4,
 "nbformat_minor": 4
}
